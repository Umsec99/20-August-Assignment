{
 "cells": [
  {
   "cell_type": "markdown",
   "id": "2fec5034",
   "metadata": {},
   "source": [
    "# Assignment 2"
   ]
  },
  {
   "cell_type": "markdown",
   "id": "688093c5",
   "metadata": {},
   "source": [
    "String based problems"
   ]
  },
  {
   "cell_type": "markdown",
   "id": "36cae084",
   "metadata": {},
   "source": [
    "1. Write a program to reverse a string."
   ]
  },
  {
   "cell_type": "code",
   "execution_count": 5,
   "id": "11d4d041",
   "metadata": {},
   "outputs": [
    {
     "name": "stdout",
     "output_type": "stream",
     "text": [
      "Enter your string :1234.0123\n",
      "The reversed string is : 3210.4321\n"
     ]
    }
   ],
   "source": [
    "# 1. take user input of a string using input function\n",
    "\n",
    "string = input(\"Enter your string :\")\n",
    "\n",
    "# 2. Reverse the string using the indexing\n",
    "\n",
    "reverse_str =string[::-1]\n",
    "\n",
    "# 3. Print the reversed string \n",
    "\n",
    "print(f\"The reversed string is :\",reverse_str)"
   ]
  },
  {
   "cell_type": "markdown",
   "id": "7dba883e",
   "metadata": {},
   "source": [
    "2. Check if a string is a palindrome."
   ]
  },
  {
   "cell_type": "code",
   "execution_count": 6,
   "id": "979190a2",
   "metadata": {},
   "outputs": [
    {
     "name": "stdout",
     "output_type": "stream",
     "text": [
      "Enter the string :so lets check\n",
      "the string is not a palindrome\n"
     ]
    }
   ],
   "source": [
    "# 1. take string input from user\n",
    "\n",
    "inp_string = input(\"Enter the string :\")\n",
    "\n",
    "# 2. remove spaces from input string\n",
    "\n",
    "nospace_str = inp_string.replace(\" \", \"\")\n",
    "\n",
    "# 3. now convert into lowercase as python is case sensitive\n",
    "\n",
    "lowcase_str = nospace_str.lower()\n",
    "\n",
    "# 4. reverse the input string\n",
    "\n",
    "rev_str = lowcase_str[::-1]\n",
    "\n",
    "# 5. use if function to print whether the string is palindrome or not\n",
    "\n",
    "if lowcase_str == rev_str:\n",
    "    print(\"the string is a Palindrome\")\n",
    "else:\n",
    "    print(\"the string is not a palindrome\")"
   ]
  },
  {
   "cell_type": "markdown",
   "id": "69aced50",
   "metadata": {},
   "source": [
    "3. Convert a string to uppercase."
   ]
  },
  {
   "cell_type": "code",
   "execution_count": 14,
   "id": "5de59631",
   "metadata": {},
   "outputs": [
    {
     "name": "stdout",
     "output_type": "stream",
     "text": [
      "Enter the string :upper LOWER\n",
      "String in uppercase is : UPPER LOWER\n"
     ]
    }
   ],
   "source": [
    "# 1. take string input from user\n",
    "\n",
    "inp_string = input(\"Enter the string :\")\n",
    "\n",
    "# 2. convert input string to uppercase using .upper function\n",
    "\n",
    "upperc_string = inp_string.upper()\n",
    "\n",
    "# 3. print the string in uppercase\n",
    "\n",
    "print(f\"String in uppercase is :\",upperc_string)"
   ]
  },
  {
   "cell_type": "markdown",
   "id": "0fd07f7f",
   "metadata": {},
   "source": [
    "4. Convert a string to lowercase."
   ]
  },
  {
   "cell_type": "code",
   "execution_count": 17,
   "id": "3bdff4e6",
   "metadata": {},
   "outputs": [
    {
     "name": "stdout",
     "output_type": "stream",
     "text": [
      "Enter the string :Lower CASE\n",
      "String in lowercase is : lower case\n"
     ]
    }
   ],
   "source": [
    "# 1. take string input from user\n",
    "\n",
    "inp_string = input(\"Enter the string :\")\n",
    "\n",
    "# 2. convert input string to lowercase using .lower function\n",
    "\n",
    "lowerc_string = inp_string.lower()\n",
    "\n",
    "# 3. print the string in uppercase\n",
    "\n",
    "print(f\"String in lowercase is :\",lowerc_string)"
   ]
  },
  {
   "cell_type": "markdown",
   "id": "f693b91e",
   "metadata": {},
   "source": [
    "5. Count the number of vowels in a string."
   ]
  },
  {
   "cell_type": "code",
   "execution_count": 8,
   "id": "8de1a404",
   "metadata": {},
   "outputs": [
    {
     "name": "stdout",
     "output_type": "stream",
     "text": [
      "enter string :the vowel count check\n",
      "The number of vowels in string is : 6\n"
     ]
    }
   ],
   "source": [
    "# 1. Take user input of a string\n",
    "input_str = input(\"enter string :\")\n",
    "\n",
    "# 2. Convert the input string to lowercase\n",
    "string =input_str.lower()\n",
    "\n",
    "# 3. set vowels count as 0\n",
    "count=0\n",
    "\n",
    "# 4. set vowels \n",
    "vowels = set(\"aeiou\")\n",
    "\n",
    "# 5. use for loop to iterate through the input string to check the vowels\n",
    "for v in string:\n",
    "    if v in vowels:\n",
    "        \n",
    "# 6. increase vowel count by 1 each time the loop detects a vowel in string\n",
    "        count +=1\n",
    "    \n",
    "# 7. print the number of vowels\n",
    "print(f\"The number of vowels in string is :\",count)"
   ]
  },
  {
   "cell_type": "markdown",
   "id": "58131bbd",
   "metadata": {},
   "source": [
    "6. Count the number of consonants in a string"
   ]
  },
  {
   "cell_type": "code",
   "execution_count": 30,
   "id": "785c130a",
   "metadata": {},
   "outputs": [
    {
     "name": "stdout",
     "output_type": "stream",
     "text": [
      "enter string :THE FOX IZ\n",
      "The number of consonants in string is : 5\n"
     ]
    }
   ],
   "source": [
    "# 1. Take user input of a string\n",
    "input_str = input(\"enter string :\")\n",
    "\n",
    "# 2. Convert the input string to lowercase\n",
    "string =input_str.lower()\n",
    "\n",
    "# 3. set consonants count as 0\n",
    "count=0\n",
    "\n",
    "# 4. set consonants \n",
    "consonants = set(\"bcdfghjklmnpqrstvwxyz\")\n",
    "\n",
    "# 5. use for loop to iterate through the input string to check the Consonants\n",
    "for c in string:\n",
    "    if c in consonants:\n",
    "        \n",
    "# 6. increase consonants count by 1 each time the loop detects a consonants in string\n",
    "        count +=1\n",
    "    \n",
    "# 7. print the number of consonantss\n",
    "print(f\"The number of consonants in string is :\",count)"
   ]
  },
  {
   "cell_type": "markdown",
   "id": "2dd29b13",
   "metadata": {},
   "source": [
    "7. Remove all whitespaces from a string."
   ]
  },
  {
   "cell_type": "code",
   "execution_count": 46,
   "id": "d564fc32",
   "metadata": {},
   "outputs": [
    {
     "name": "stdout",
     "output_type": "stream",
     "text": [
      "enter string: the spacee y\n",
      "The string without spaces is : thespaceey\n"
     ]
    }
   ],
   "source": [
    "# 1. take user input\n",
    "string= input(\"enter string: \")\n",
    "\n",
    "# 2. replace space with no space with using .replace function\n",
    "nospaces = string.replace(\" \",\"\")\n",
    "\n",
    "# 3. print the string without spaces\n",
    "print(\"The string without spaces is :\",nospaces)"
   ]
  },
  {
   "cell_type": "markdown",
   "id": "b8889e76",
   "metadata": {},
   "source": [
    "8. Find the length of a string without using the `len()` function."
   ]
  },
  {
   "cell_type": "code",
   "execution_count": 47,
   "id": "5df03aa0",
   "metadata": {},
   "outputs": [
    {
     "name": "stdout",
     "output_type": "stream",
     "text": [
      "enter string :this is 8\n",
      "the number of letters is :  9\n"
     ]
    }
   ],
   "source": [
    "inp_str = input(\"enter string :\")\n",
    "count = 0\n",
    "\n",
    "for letter in inp_str:\n",
    "    count+=1\n",
    "    \n",
    "print(\"the number of letters is : \",count)"
   ]
  },
  {
   "cell_type": "markdown",
   "id": "a52fbeea",
   "metadata": {},
   "source": [
    "9. Check if a string contains a specific word."
   ]
  },
  {
   "cell_type": "code",
   "execution_count": 52,
   "id": "1bccdf37",
   "metadata": {},
   "outputs": [
    {
     "name": "stdout",
     "output_type": "stream",
     "text": [
      "Enter the string :the\n",
      "Enter the specific word :h\n",
      "The input string contains the word: 'h'\n"
     ]
    }
   ],
   "source": [
    "# 1. take user input of the string and the specific word\n",
    "input_str = input(\"Enter the string :\")\n",
    "specific_word = input(\"Enter the specific word :\")\n",
    "\n",
    "# 2. use if statement to iterate the input string for the specific word\n",
    "if specific_word in input_str:\n",
    "    \n",
    "# 3. print if the specific word is found in string    \n",
    "    print(f\"The input string contains the word: '{specific_word}'\")\n",
    "\n",
    "# 4. print if the specific word is not found in string\n",
    "else:\n",
    "    print(f\"The input string does not contain the word: '{specific_word}'\")"
   ]
  },
  {
   "cell_type": "markdown",
   "id": "99e73b9f",
   "metadata": {},
   "source": [
    "10. Replace a word in a string with another word."
   ]
  },
  {
   "cell_type": "code",
   "execution_count": 61,
   "id": "c2286e13",
   "metadata": {},
   "outputs": [
    {
     "name": "stdout",
     "output_type": "stream",
     "text": [
      "enter string: the time is nigh!\n",
      "enter word to be replaced: time\n",
      "enter new word: hour\n",
      "The replaced string is : the hour is nigh!\n"
     ]
    }
   ],
   "source": [
    "# 1. take user input for string\n",
    "string= input(\"enter string: \")\n",
    "\n",
    "# 2. take user input for old word and new word for replacement\n",
    "\n",
    "old = input(\"enter word to be replaced: \")\n",
    "new = input(\"enter new word: \")\n",
    "\n",
    "# 2. replace old word with new word with using .replace function\n",
    "replaced_string = string.replace(old,new)\n",
    "\n",
    "# 3. print the string without spaces\n",
    "print(f\"The replaced string is :\",replaced_string)"
   ]
  },
  {
   "cell_type": "markdown",
   "id": "c0160948",
   "metadata": {},
   "source": [
    "11. Count the occurrences of a word in a string"
   ]
  },
  {
   "cell_type": "code",
   "execution_count": 71,
   "id": "ccbab4b9",
   "metadata": {},
   "outputs": [
    {
     "name": "stdout",
     "output_type": "stream",
     "text": [
      "Enter string: the desired word for this string is the word that i desire\n",
      "Enter word to count for occurences: word\n",
      "The word 'word' appears '2' times in input string.\n"
     ]
    }
   ],
   "source": [
    "# 1. define function occurances and start word count\n",
    "\n",
    "def occurences(inp_str,target):\n",
    "    word_count = 0\n",
    "\n",
    "# 2. split the string by the default space splitter\n",
    "    string = inp_str.split()\n",
    "    \n",
    "# 3. use for loop to iterate through the string to check for the desired word    \n",
    "    for word in string:\n",
    "        if word == target:\n",
    "            \n",
    "# 4. increase word count by 1 each time the desired word is found in the string            \n",
    "            word_count +=1\n",
    "    return word_count\n",
    "\n",
    "# 5. take user input for string and the desired word \n",
    "inp_str =input(\"Enter string: \")\n",
    "target = input(\"Enter word to count for occurences: \")\n",
    "\n",
    "# 6. get the result of pre defined function and print the reusult of occurences of the word\n",
    "\n",
    "result = occurences(inp_str,target)\n",
    "print(f\"The word '{target}' appears '{result}' times in input string.\")"
   ]
  },
  {
   "cell_type": "markdown",
   "id": "11120998",
   "metadata": {},
   "source": [
    "12. Find the first occurrence of a word in a string."
   ]
  },
  {
   "cell_type": "code",
   "execution_count": 9,
   "id": "d40c561d",
   "metadata": {},
   "outputs": [
    {
     "name": "stdout",
     "output_type": "stream",
     "text": [
      "Index of the first occurrence of the word 'Certain' is: 30\n"
     ]
    }
   ],
   "source": [
    "def first_occurrence(string, word):\n",
    "    index = string.find(word)\n",
    "    if index == -1:\n",
    "        return None \n",
    "    return index\n",
    "\n",
    "text = \"Lets check if this string has certain word at certain index.\"\n",
    "word = \"certain\"\n",
    "result = first_occurrence(text, word)\n",
    "print(\"Index of the first occurrence of the word 'Certain' is:\", result)"
   ]
  },
  {
   "cell_type": "markdown",
   "id": "834df408",
   "metadata": {},
   "source": [
    "13. Find the last occurrence of a word in a string"
   ]
  },
  {
   "cell_type": "code",
   "execution_count": 10,
   "id": "ac036086",
   "metadata": {},
   "outputs": [
    {
     "name": "stdout",
     "output_type": "stream",
     "text": [
      "Index of the last occurrence of the word 'Certain' is: 46\n"
     ]
    }
   ],
   "source": [
    "def last_occurrence(string, word):\n",
    "    index = string.rfind(word)\n",
    "    if index == -1:\n",
    "        return None \n",
    "    return index\n",
    "\n",
    "text = \"Lets check if this string has certain word at certain index.\"\n",
    "word = \"certain\"\n",
    "result = last_occurrence(text, word)\n",
    "print(\"Index of the last occurrence of the word 'Certain' is:\", result)"
   ]
  },
  {
   "cell_type": "markdown",
   "id": "776fdf7c",
   "metadata": {},
   "source": [
    "14. Split a string into a list of words"
   ]
  },
  {
   "cell_type": "code",
   "execution_count": 72,
   "id": "d1862506",
   "metadata": {},
   "outputs": [
    {
     "name": "stdout",
     "output_type": "stream",
     "text": [
      "enter string: this is my voice\n",
      "The split string is:  ['this', 'is', 'my', 'voice']\n"
     ]
    }
   ],
   "source": [
    "# 1. enter the text to be splitted\n",
    "text = input(\"enter string: \")\n",
    "\n",
    "# 2. split the input text using .split function\n",
    "split_text = text.split()\n",
    "\n",
    "# 3. print the splitted string in a list\n",
    "print(f\"The split string is: \",list(split_text))"
   ]
  },
  {
   "cell_type": "markdown",
   "id": "3407b24d",
   "metadata": {},
   "source": [
    "15. Join a list of words into a string."
   ]
  },
  {
   "cell_type": "code",
   "execution_count": 4,
   "id": "138b77ab",
   "metadata": {},
   "outputs": [
    {
     "name": "stdout",
     "output_type": "stream",
     "text": [
      "cure is for loo sers\n"
     ]
    }
   ],
   "source": [
    "a = [\"cure\", \"is\", \"for\", \"loo\", \"sers\"]\n",
    "b = ' '.join(a)\n",
    "print(b)"
   ]
  },
  {
   "cell_type": "markdown",
   "id": "d585ab4b",
   "metadata": {},
   "source": [
    "16. Convert a string where words are separated by spaces to one where words\n",
    "are separated by underscores."
   ]
  },
  {
   "cell_type": "code",
   "execution_count": 9,
   "id": "84e1b4b5",
   "metadata": {},
   "outputs": [
    {
     "name": "stdout",
     "output_type": "stream",
     "text": [
      "This_is_how_we_separate_string_using_different_symbols\n"
     ]
    }
   ],
   "source": [
    "str1 = \"This is how we separate string using different symbols\"\n",
    "new_str=str1.replace(' ','_')\n",
    "print(new_str)"
   ]
  },
  {
   "cell_type": "markdown",
   "id": "a6fbb954",
   "metadata": {},
   "source": [
    "17. Check if a string starts with a specific word or phrase."
   ]
  },
  {
   "cell_type": "code",
   "execution_count": 14,
   "id": "45c8a28d",
   "metadata": {},
   "outputs": [
    {
     "name": "stdout",
     "output_type": "stream",
     "text": [
      "The string does not starts with specific word\n"
     ]
    }
   ],
   "source": [
    "def spec_word(string,word):\n",
    "    initials = string.startswith(word)\n",
    "    return initials\n",
    "\n",
    "# test function\n",
    "string = 'data science starts with python'\n",
    "word = 'data'\n",
    "result=spec_word(string,word)\n",
    "if result:\n",
    "    print('The string starts with specific word')\n",
    "else:\n",
    "    print('The string does not start with specific word')"
   ]
  },
  {
   "cell_type": "markdown",
   "id": "64cc9f52",
   "metadata": {},
   "source": [
    "18. Check if a string ends with a specific word or phrase."
   ]
  },
  {
   "cell_type": "code",
   "execution_count": 16,
   "id": "f7fce131",
   "metadata": {},
   "outputs": [
    {
     "name": "stdout",
     "output_type": "stream",
     "text": [
      "The string ends with specific word\n"
     ]
    }
   ],
   "source": [
    "def spec_word(string,word):\n",
    "    end = string.endswith(word)\n",
    "    return end\n",
    "\n",
    "# test function\n",
    "string = 'data science starts with python'\n",
    "word = 'python'\n",
    "result=spec_word(string,word)\n",
    "if result:\n",
    "    print('The string ends with specific word')\n",
    "else:\n",
    "    print('The string does not end with specific word')"
   ]
  },
  {
   "cell_type": "markdown",
   "id": "69e92362",
   "metadata": {},
   "source": [
    "19. Convert a string to title case (e.g., \"hello world\" to \"Hello World\")."
   ]
  },
  {
   "cell_type": "code",
   "execution_count": 14,
   "id": "b82ec4b2",
   "metadata": {},
   "outputs": [
    {
     "data": {
      "text/plain": [
       "'Hello World'"
      ]
     },
     "execution_count": 14,
     "metadata": {},
     "output_type": "execute_result"
    }
   ],
   "source": [
    "def title_case(a):\n",
    "    capist=a.title()\n",
    "    return capist\n",
    "title_case('hello world')"
   ]
  },
  {
   "cell_type": "markdown",
   "id": "82c24826",
   "metadata": {},
   "source": [
    "20. Find the longest word in a string."
   ]
  },
  {
   "cell_type": "code",
   "execution_count": 15,
   "id": "762aace2",
   "metadata": {},
   "outputs": [
    {
     "name": "stdout",
     "output_type": "stream",
     "text": [
      "the longest word in this string is:  aplhabet\n"
     ]
    }
   ],
   "source": [
    "example = 'what is the aplhabet with most letters in this string'\n",
    "words = example.split()\n",
    "longest_word = ''\n",
    "maxlen = 0\n",
    "for i in words:\n",
    "    if len(i) > maxlen:\n",
    "        maxlen = len(i)\n",
    "        longest_word = i\n",
    "    \n",
    "print('the longest word in this string is: ',longest_word)"
   ]
  },
  {
   "cell_type": "markdown",
   "id": "1d676d94",
   "metadata": {},
   "source": [
    "21. Find the shortest word in a string."
   ]
  },
  {
   "cell_type": "code",
   "execution_count": 18,
   "id": "fe4c280e",
   "metadata": {},
   "outputs": [
    {
     "name": "stdout",
     "output_type": "stream",
     "text": [
      "the shortest word in this string is:  a\n"
     ]
    }
   ],
   "source": [
    "example = 'what is a the aplhabet with least letters in this string'\n",
    "words = example.split()\n",
    "shortest_word = ''\n",
    "minlen = 100\n",
    "for i in words:\n",
    "    if len(i) < minlen:\n",
    "        minlen = len(i)\n",
    "        shortest_word = i\n",
    "    \n",
    "print('the shortest word in this string is: ',shortest_word)"
   ]
  },
  {
   "cell_type": "markdown",
   "id": "ce6eec1c",
   "metadata": {},
   "source": [
    "22. Reverse the order of words in a string."
   ]
  },
  {
   "cell_type": "code",
   "execution_count": 21,
   "id": "319e7b4e",
   "metadata": {},
   "outputs": [
    {
     "name": "stdout",
     "output_type": "stream",
     "text": [
      "Given string is:  python is hard\n",
      "Reverse string is:  drah si nohtyp\n"
     ]
    }
   ],
   "source": [
    "def reverse(string):\n",
    "    ogstr =''\n",
    "    for a in string:\n",
    "        ogstr = a + ogstr\n",
    "    return ogstr\n",
    "\n",
    "#example\n",
    "string = 'python is hard'\n",
    "print('Given string is: ',string)\n",
    "\n",
    "print('Reverse string is: ',reverse(string))"
   ]
  },
  {
   "cell_type": "markdown",
   "id": "12b55e0c",
   "metadata": {},
   "source": [
    "23. Check if a string is alphanumeric."
   ]
  },
  {
   "cell_type": "code",
   "execution_count": 45,
   "id": "2e83aa6f",
   "metadata": {},
   "outputs": [
    {
     "name": "stdout",
     "output_type": "stream",
     "text": [
      "The example is alphanumeric\n"
     ]
    }
   ],
   "source": [
    "def alpnum(word):\n",
    "    return word.isalnum()\n",
    "\n",
    "word = 'Amu202352'\n",
    "result = alpnum(word)\n",
    "if result:\n",
    "    print('The example is alphanumeric')\n",
    "else:\n",
    "    print('The example is not alphanumeric')"
   ]
  },
  {
   "cell_type": "markdown",
   "id": "ac3066de",
   "metadata": {},
   "source": [
    "24. Extract all digits from a string."
   ]
  },
  {
   "cell_type": "code",
   "execution_count": 23,
   "id": "be4e8e8d",
   "metadata": {},
   "outputs": [
    {
     "name": "stdout",
     "output_type": "stream",
     "text": [
      "The numbers from given string - danish00@12345 are:  0012345\n"
     ]
    }
   ],
   "source": [
    "word = 'danish00@12345'\n",
    "numbers =''\n",
    "for n in word:\n",
    "    if n.isdigit():\n",
    "        numbers += n\n",
    "print('The numbers from given string -', word, 'are: ',  numbers)"
   ]
  },
  {
   "cell_type": "markdown",
   "id": "d8a0a355",
   "metadata": {},
   "source": [
    "25. Extract all alphabets from a string."
   ]
  },
  {
   "cell_type": "code",
   "execution_count": 27,
   "id": "11dd7cb6",
   "metadata": {},
   "outputs": [
    {
     "name": "stdout",
     "output_type": "stream",
     "text": [
      "The alphabets from given string - 12danish@345 are:  danish\n"
     ]
    }
   ],
   "source": [
    "word = '12danish@345'\n",
    "alphabets =''\n",
    "for alpha in word:\n",
    "    if alpha.isalpha():\n",
    "        alphabets += alpha\n",
    "print('The alphabets from given string -', word, 'are: ',  alphabets)"
   ]
  },
  {
   "cell_type": "markdown",
   "id": "8b5480b3",
   "metadata": {},
   "source": [
    "26. Count the number of uppercase letters in a string."
   ]
  },
  {
   "cell_type": "code",
   "execution_count": 41,
   "id": "18e4ee72",
   "metadata": {},
   "outputs": [
    {
     "name": "stdout",
     "output_type": "stream",
     "text": [
      "The count of uppercase letters are:  4\n"
     ]
    }
   ],
   "source": [
    "def count_upper(word):\n",
    "    count=0\n",
    "    for upper in word:\n",
    "        if upper.isupper():\n",
    "            count +=1\n",
    "    return count\n",
    "print('The count of uppercase letters are: ',count_upper('HelloWorLD'))"
   ]
  },
  {
   "cell_type": "markdown",
   "id": "53f6e2e9",
   "metadata": {},
   "source": [
    "27. Count the number of lowercase letters in a string."
   ]
  },
  {
   "cell_type": "code",
   "execution_count": 42,
   "id": "aae6d115",
   "metadata": {},
   "outputs": [
    {
     "name": "stdout",
     "output_type": "stream",
     "text": [
      "The count of lowercase letters are:  6\n"
     ]
    }
   ],
   "source": [
    "def count_lower(word):\n",
    "    count=0\n",
    "    for lower in word:\n",
    "        if lower.islower():\n",
    "            count +=1\n",
    "    return count\n",
    "print('The count of lowercase letters are: ',count_lower('HelloWorLD'))"
   ]
  },
  {
   "cell_type": "markdown",
   "id": "87cd2b18",
   "metadata": {},
   "source": [
    "28. Swap the case of each character in a string."
   ]
  },
  {
   "cell_type": "code",
   "execution_count": 49,
   "id": "740e81f1",
   "metadata": {},
   "outputs": [
    {
     "name": "stdout",
     "output_type": "stream",
     "text": [
      "the swapped case is:  InEURON\n"
     ]
    }
   ],
   "source": [
    "def swap_fun(string):\n",
    "    swapped_string = string.swapcase()\n",
    "    return swapped_string\n",
    "\n",
    "print('The swapped case is: ', swap_fun('iNeuron'))"
   ]
  },
  {
   "cell_type": "markdown",
   "id": "c744f8f9",
   "metadata": {},
   "source": [
    "29. Remove a specific word from a string."
   ]
  },
  {
   "cell_type": "code",
   "execution_count": 2,
   "id": "c41875dd",
   "metadata": {},
   "outputs": [
    {
     "name": "stdout",
     "output_type": "stream",
     "text": [
      "The string with a word removed is : this is remove word example defined\n"
     ]
    }
   ],
   "source": [
    "def remove_word(string,del_word):\n",
    "    words = string.split()\n",
    "    new_string = [char for char in words if char!= del_word]\n",
    "    \n",
    "    out_string = ' '.join(new_string)\n",
    "    return out_string\n",
    "\n",
    "print(f\"The string with a word removed is :\",remove_word(\"this is remove function word example defined\",\"function\"))"
   ]
  },
  {
   "cell_type": "markdown",
   "id": "bfa93e4c",
   "metadata": {},
   "source": [
    "30. Check if a string is a valid email address."
   ]
  },
  {
   "cell_type": "code",
   "execution_count": null,
   "id": "8c9876b8",
   "metadata": {},
   "outputs": [],
   "source": [
    "def valid_email(string):\n",
    "    for valid in string:\n",
    "        if valid is "
   ]
  },
  {
   "cell_type": "markdown",
   "id": "878ba6be",
   "metadata": {},
   "source": [
    "31. Extract the username from an email address string."
   ]
  },
  {
   "cell_type": "code",
   "execution_count": 12,
   "id": "e25ff274",
   "metadata": {},
   "outputs": [
    {
     "name": "stdout",
     "output_type": "stream",
     "text": [
      "The username from the {'pwskills@ineuron.ai'} is : pwskills\n"
     ]
    }
   ],
   "source": [
    "emailstr = \"pwskills@ineuron.ai\"\n",
    "username= emailstr.split('@')[0]\n",
    "print('The username from the', {emailstr}, 'is :',user)"
   ]
  },
  {
   "cell_type": "markdown",
   "id": "1b04019c",
   "metadata": {},
   "source": [
    "32. Extract the domain name from an email address string."
   ]
  },
  {
   "cell_type": "code",
   "execution_count": 14,
   "id": "c77d3ea4",
   "metadata": {},
   "outputs": [
    {
     "name": "stdout",
     "output_type": "stream",
     "text": [
      "The domain name from the {'pwskills@ineuron.ai'} is : ineuron.ai\n"
     ]
    }
   ],
   "source": [
    "emailstr = \"pwskills@ineuron.ai\"\n",
    "domain= emailstr.split('@')[1]\n",
    "print('The domain name from the', {emailstr}, 'is :',domain)"
   ]
  },
  {
   "cell_type": "markdown",
   "id": "a2e809bc",
   "metadata": {},
   "source": [
    "33. Replace multiple spaces in a string with a single space."
   ]
  },
  {
   "cell_type": "code",
   "execution_count": 18,
   "id": "6401e903",
   "metadata": {},
   "outputs": [
    {
     "name": "stdout",
     "output_type": "stream",
     "text": [
      "Hello , this is pwskills\n"
     ]
    }
   ],
   "source": [
    "space_str = 'Hello , this   is   pwskills'\n",
    "single_space = ' '.join(space_str.split())\n",
    "print(single_space)"
   ]
  },
  {
   "cell_type": "markdown",
   "id": "136b113c",
   "metadata": {},
   "source": [
    "34. Check if a string is a valid URL."
   ]
  },
  {
   "cell_type": "code",
   "execution_count": 7,
   "id": "b39d6345",
   "metadata": {},
   "outputs": [
    {
     "name": "stdout",
     "output_type": "stream",
     "text": [
      "False\n",
      "True\n"
     ]
    }
   ],
   "source": [
    "from urllib.parse import urlparse\n",
    "\n",
    "def valid_url(url):\n",
    "   \n",
    "    try:\n",
    "        result = urlparse(url)\n",
    "        return all([result.scheme, result.netloc])\n",
    "    except ValueError:\n",
    "        return False\n",
    "\n",
    "test1 = valid_url(\"www.fb.com\")\n",
    "test2 = valid_url(\"https://www.google.com\")\n",
    "print(test1)\n",
    "print(test2)"
   ]
  },
  {
   "cell_type": "markdown",
   "id": "dff8ec91",
   "metadata": {},
   "source": [
    "35. Extract the protocol (http or https) from a URL string."
   ]
  },
  {
   "cell_type": "code",
   "execution_count": 10,
   "id": "dcdf4302",
   "metadata": {},
   "outputs": [
    {
     "name": "stdout",
     "output_type": "stream",
     "text": [
      "Protocol 1 : https\n",
      "Protocol 2 : http\n",
      "Protocol 3 : hehehe\n"
     ]
    }
   ],
   "source": [
    "def show_protocol(url):\n",
    "    \n",
    "    # Get the index of the first occurrence of \"://\"\n",
    "    protocol_end = url.find(\"://\")\n",
    "\n",
    "    if protocol_end != -1:\n",
    "        \n",
    "        # Extract the protocol from the URL\n",
    "        protocol = url[:protocol_end]\n",
    "        return protocol\n",
    "    else:\n",
    "        return None\n",
    "test1 = \"https://www.google.com\"\n",
    "test2 = \"http://fb.com\"\n",
    "test3 = \"hehehe://ftp.ineuron.com\"\n",
    "\n",
    "r1 = show_protocol(test1)\n",
    "r2 = show_protocol(test2)\n",
    "r3 = show_protocol(test3)\n",
    "\n",
    "print('Protocol 1 :', r1)\n",
    "print('Protocol 2 :', r2)\n",
    "print('Protocol 3 :', r3)"
   ]
  },
  {
   "cell_type": "markdown",
   "id": "f4d1b457",
   "metadata": {},
   "source": [
    "36. Find the frequency of each character in a string."
   ]
  },
  {
   "cell_type": "code",
   "execution_count": 13,
   "id": "f1b25961",
   "metadata": {},
   "outputs": [
    {
     "name": "stdout",
     "output_type": "stream",
     "text": [
      "Character: 'a', Frequency: 1\n",
      "Character: 'p', Frequency: 3\n",
      "Character: 'l', Frequency: 1\n",
      "Character: 'e', Frequency: 2\n",
      "Character: ' ', Frequency: 1\n",
      "Character: 'i', Frequency: 1\n"
     ]
    }
   ],
   "source": [
    "def freq_char(inp_string):\n",
    "    frequency = {}\n",
    "    for x in inp_string:\n",
    "        if x in frequency:\n",
    "            frequency[x] += 1\n",
    "        else:\n",
    "            frequency [x] = 1\n",
    "    return frequency\n",
    "\n",
    "#test\n",
    "inp_string = 'apple pie'\n",
    "\n",
    "character_frequency = freq_char(inp_string)\n",
    "\n",
    "for x, letters in character_frequency.items():\n",
    "    print(f\"Character: '{x}', Frequency: {letters}\")\n",
    "        "
   ]
  },
  {
   "cell_type": "markdown",
   "id": "0e91eabe",
   "metadata": {},
   "source": [
    "37. Remove all punctuation from a string."
   ]
  },
  {
   "cell_type": "code",
   "execution_count": 19,
   "id": "52adee68",
   "metadata": {},
   "outputs": [
    {
     "name": "stdout",
     "output_type": "stream",
     "text": [
      "Original string:  Alas! this hasn't been easy, actually quite hard.\n",
      "Cleaned string:  Alas this hasnt been easy actually quite hard\n"
     ]
    }
   ],
   "source": [
    "import string\n",
    "\n",
    "def no_punctuation(inp_string):\n",
    "    translation = str.maketrans(\"\", \"\", string.punctuation)\n",
    "    \n",
    "    clean_str = inp_string.translate(translation)\n",
    "    return clean_str\n",
    "\n",
    "#test\n",
    "inp_string = \" Alas! this hasn't been easy, actually quite hard.\"\n",
    "\n",
    "Cleaned_string = no_punctuation(inp_string)\n",
    "print('Original string:', inp_string)\n",
    "print('Cleaned string:', Cleaned_string)"
   ]
  },
  {
   "cell_type": "markdown",
   "id": "4fc63efc",
   "metadata": {},
   "source": [
    "38. Check if a string contains only digits."
   ]
  },
  {
   "cell_type": "code",
   "execution_count": 24,
   "id": "e4dac8e1",
   "metadata": {},
   "outputs": [
    {
     "name": "stdout",
     "output_type": "stream",
     "text": [
      " applepie: contains only digits: False\n",
      " ds@123: contains only digits: False\n",
      " 12346: contains only digits: True\n"
     ]
    }
   ],
   "source": [
    "def check_digits(inp_string):\n",
    "    \n",
    "    return inp_string.isdigit()\n",
    "# test\n",
    "t1 = 'applepie'\n",
    "t2 = 'ds@123'\n",
    "t3 = '12346'\n",
    "\n",
    "r1 = check_digits('applepie')\n",
    "r2 = check_digits('ds@123')\n",
    "r3 = check_digits('12346')\n",
    "\n",
    "print(f\" {t1}: contains only digits:\", r1)\n",
    "print(f\" {t2}: contains only digits:\", r2)\n",
    "print(f\" {t3}: contains only digits:\", r3)"
   ]
  },
  {
   "cell_type": "markdown",
   "id": "6dd165b2",
   "metadata": {},
   "source": [
    "39. Check if a string contains only alphabets."
   ]
  },
  {
   "cell_type": "code",
   "execution_count": 26,
   "id": "39003a12",
   "metadata": {},
   "outputs": [
    {
     "name": "stdout",
     "output_type": "stream",
     "text": [
      " applepie: contains only alphabets: True\n",
      " ds@123: contains only alphabets: False\n",
      " 12346: contains only alphabets: False\n"
     ]
    }
   ],
   "source": [
    "def check_alpha(inp_string):\n",
    "    \n",
    "    return inp_string.isalpha()\n",
    "\n",
    "# test\n",
    "t1 = 'applepie'\n",
    "t2 = 'ds@123'\n",
    "t3 = '12346'\n",
    "\n",
    "r1 = check_alpha('applepie')\n",
    "r2 = check_alpha('ds@123')\n",
    "r3 = check_alpha('12346')\n",
    "\n",
    "print(f\" {t1}: contains only alphabets:\", r1)\n",
    "print(f\" {t2}: contains only alphabets:\", r2)\n",
    "print(f\" {t3}: contains only alphabets:\", r3)"
   ]
  },
  {
   "cell_type": "markdown",
   "id": "9a1298cd",
   "metadata": {},
   "source": [
    "40. Convert a string to a list of characters."
   ]
  },
  {
   "cell_type": "code",
   "execution_count": 29,
   "id": "03751110",
   "metadata": {},
   "outputs": [
    {
     "name": "stdout",
     "output_type": "stream",
     "text": [
      " Original string:  assing string\n",
      " List String:  ['a', 's', 's', 'i', 'n', 'g', ' ', 's', 't', 'r', 'i', 'n', 'g']\n"
     ]
    }
   ],
   "source": [
    "def list_of_str(inp_str):\n",
    "    char_list = list(inp_str)\n",
    "    \n",
    "    return char_list\n",
    "#test\n",
    "inp_str = 'assing string'\n",
    "\n",
    "char_list = list_of_str(inp_str)\n",
    "\n",
    "print(f' Original string: ', inp_str)\n",
    "print(f' List String: ', char_list)"
   ]
  },
  {
   "cell_type": "markdown",
   "id": "66d31c34",
   "metadata": {},
   "source": [
    "41. Check if two strings are anagrams."
   ]
  },
  {
   "cell_type": "code",
   "execution_count": 32,
   "id": "d8fefca2",
   "metadata": {},
   "outputs": [
    {
     "name": "stdout",
     "output_type": "stream",
     "text": [
      "'hello' and 'fello' are anagrams: False\n",
      "'dear' and 'read' are anagrams: True\n"
     ]
    }
   ],
   "source": [
    "def anagram_str(str1,str2):\n",
    "    str1 = str1.replace(\" \",\"\").lower()\n",
    "    str2 = str2.replace(\" \",\"\").lower()\n",
    "    \n",
    "    return sorted(str1) == sorted(str2)\n",
    "# test\n",
    "str1 = 'hello'\n",
    "str2 = 'fello'\n",
    "str3 = 'dear'\n",
    "str4 = 'read'\n",
    "\n",
    "# Check if strings are anagrams\n",
    "result1 = anagram_str(str1, str2)\n",
    "result2 = anagram_str(str3, str4)\n",
    "\n",
    "# Print the results\n",
    "print(f\"'{str1}' and '{str2}' are anagrams:\", result1)\n",
    "print(f\"'{str3}' and '{str4}' are anagrams:\", result2)"
   ]
  },
  {
   "cell_type": "markdown",
   "id": "cdfcdc00",
   "metadata": {},
   "source": [
    "42. Encode a string using a Caesar cipher."
   ]
  },
  {
   "cell_type": "markdown",
   "id": "aaae2efc",
   "metadata": {},
   "source": [
    "43. Decode a Caesar cipher encoded string."
   ]
  },
  {
   "cell_type": "markdown",
   "id": "c2e89acc",
   "metadata": {},
   "source": [
    "44. Find the most frequent word in a string."
   ]
  },
  {
   "cell_type": "code",
   "execution_count": 37,
   "id": "6eb7b85e",
   "metadata": {},
   "outputs": [
    {
     "name": "stdout",
     "output_type": "stream",
     "text": [
      "Most frequent word is :  there\n"
     ]
    }
   ],
   "source": [
    "import re\n",
    "from collections import Counter\n",
    "\n",
    "def most_frequent(inp_str):\n",
    "    clean_string = re.sub(r'[^\\w\\s]', '', inp_str).lower()\n",
    "    words = clean_string.split()\n",
    "    word_counter = Counter(words)\n",
    "    most_common_word = word_counter.most_common(1)[0][0]\n",
    "    \n",
    "    return most_common_word\n",
    "\n",
    "#test\n",
    "inp_str = \"hy there, how is everything goin'on over there at Apple bee's\"\n",
    "\n",
    "most_common = most_frequent(inp_str)\n",
    "\n",
    "print('Most frequent word is : ',most_common)"
   ]
  },
  {
   "cell_type": "markdown",
   "id": "d10517fd",
   "metadata": {},
   "source": [
    "45. Find all unique words in a string."
   ]
  },
  {
   "cell_type": "code",
   "execution_count": 39,
   "id": "3e9333ca",
   "metadata": {},
   "outputs": [
    {
     "name": "stdout",
     "output_type": "stream",
     "text": [
      "Unique words are :  {'there', 'who', 'hy', 'hey', 'is'}\n"
     ]
    }
   ],
   "source": [
    "import re\n",
    "\n",
    "def unique_words(inp_str):\n",
    "    clean_str = re.sub(r'[^\\w\\s]', '',inp_str).lower()\n",
    "    words = set(clean_str.split())\n",
    "    \n",
    "    return words\n",
    "#test\n",
    "inp_str = \"hy there, hey there, who is there\"\n",
    "\n",
    "unique_words = unique_words(inp_str)\n",
    "\n",
    "print('Unique words are : ',unique_words)"
   ]
  },
  {
   "cell_type": "markdown",
   "id": "50a1908c",
   "metadata": {},
   "source": [
    "46. Count the number of syllables in a string"
   ]
  },
  {
   "cell_type": "code",
   "execution_count": 25,
   "id": "8af52324",
   "metadata": {},
   "outputs": [
    {
     "name": "stdout",
     "output_type": "stream",
     "text": [
      "'welcome' has 3 syllables.\n",
      "'ineuron' has 3 syllables.\n",
      "'pwskills' has 1 syllables.\n"
     ]
    }
   ],
   "source": [
    "import re\n",
    "def count_syllables(x):\n",
    "    vowel_groups = re.findall(r'[aeiouy]+', x, re.IGNORECASE)\n",
    "    return len(vowel_groups)\n",
    "\n",
    "# test\n",
    "word1 = \"welcome\"\n",
    "word2 = \"ineuron\"\n",
    "word3 = \"pwskills\"\n",
    "\n",
    "syllables1 = count_syllables(word1)\n",
    "syllables2 = count_syllables(word2)\n",
    "syllables3 = count_syllables(word3)\n",
    "\n",
    "print(f\"'{word1}' has {syllables1} syllables.\")\n",
    "print(f\"'{word2}' has {syllables2} syllables.\")\n",
    "print(f\"'{word3}' has {syllables3} syllables.\")"
   ]
  },
  {
   "cell_type": "markdown",
   "id": "af6c1288",
   "metadata": {},
   "source": [
    "47. Check if a string contains any special characters."
   ]
  },
  {
   "cell_type": "code",
   "execution_count": 27,
   "id": "93615bbc",
   "metadata": {},
   "outputs": [
    {
     "name": "stdout",
     "output_type": "stream",
     "text": [
      "'Welcome Ya'll' contains special characters: False\n",
      "'danish@ineuron.ai' contains special characters: True\n"
     ]
    }
   ],
   "source": [
    "import re\n",
    "def contains_special_characters(input_string):\n",
    "    pattern = re.compile(r'[!@#$%^&*()_+{}\\[\\]:;<>,.?~\\\\/]')\n",
    "    match = pattern.search(input_string)\n",
    "\n",
    "    return bool(match)\n",
    "# test\n",
    "string1 = \"Welcome Ya'll\"\n",
    "string2 = \"danish@ineuron.ai\"\n",
    "\n",
    "result1 = contains_special_characters(string1)\n",
    "result2 = contains_special_characters(string2)\n",
    "\n",
    "print(f\"'{string1}' contains special characters:\", result1)\n",
    "print(f\"'{string2}' contains special characters:\", result2)"
   ]
  },
  {
   "cell_type": "markdown",
   "id": "4b3ee594",
   "metadata": {},
   "source": [
    "48. Remove the nth word from a string."
   ]
  },
  {
   "cell_type": "markdown",
   "id": "647712d7",
   "metadata": {},
   "source": [
    "49. Insert a word at the nth position in a string."
   ]
  },
  {
   "cell_type": "markdown",
   "id": "b8adcfcc",
   "metadata": {},
   "source": [
    "50. Convert a CSV string to a list of lists"
   ]
  },
  {
   "cell_type": "markdown",
   "id": "52c70036",
   "metadata": {},
   "source": [
    "## List Based Questions"
   ]
  },
  {
   "cell_type": "markdown",
   "id": "3631f503",
   "metadata": {},
   "source": [
    "1. Create a list with integers from 1 to 10."
   ]
  },
  {
   "cell_type": "code",
   "execution_count": 43,
   "id": "f4851a7a",
   "metadata": {},
   "outputs": [
    {
     "name": "stdout",
     "output_type": "stream",
     "text": [
      "[1, 2, 3, 4, 5, 6, 7, 8, 9, 10]\n"
     ]
    }
   ],
   "source": [
    "integers = [i for i in range (1,11)]\n",
    "print (integers)"
   ]
  },
  {
   "cell_type": "markdown",
   "id": "1c6f3f11",
   "metadata": {},
   "source": [
    "2. Find the length of a list without using the `len()` function."
   ]
  },
  {
   "cell_type": "code",
   "execution_count": 2,
   "id": "6004b816",
   "metadata": {},
   "outputs": [
    {
     "name": "stdout",
     "output_type": "stream",
     "text": [
      "length of list : 5\n"
     ]
    }
   ],
   "source": [
    "def length(inp_list):\n",
    "    count = 0\n",
    "    for i in inp_list:\n",
    "        count +=1\n",
    "    return count\n",
    "\n",
    "#test\n",
    "inp_list = [50,2,20,13,'hy']\n",
    "\n",
    "t = length(inp_list)\n",
    "print('length of list :',t)"
   ]
  },
  {
   "cell_type": "markdown",
   "id": "4bc713f1",
   "metadata": {},
   "source": [
    "3. Append an element to the end of a list."
   ]
  },
  {
   "cell_type": "code",
   "execution_count": 7,
   "id": "8f226e57",
   "metadata": {},
   "outputs": [
    {
     "name": "stdout",
     "output_type": "stream",
     "text": [
      "Appended list is : [2, 4, 6, 8, 10]\n"
     ]
    }
   ],
   "source": [
    "test_list = [2,4,6,8]\n",
    "\n",
    "new = 10\n",
    "test_list.append(new)\n",
    "\n",
    "print('Appended list is :', test_list)"
   ]
  },
  {
   "cell_type": "markdown",
   "id": "5f8fccd9",
   "metadata": {},
   "source": [
    "4. Insert an element at a specific index in a list."
   ]
  },
  {
   "cell_type": "code",
   "execution_count": 15,
   "id": "a7df3a98",
   "metadata": {},
   "outputs": [
    {
     "name": "stdout",
     "output_type": "stream",
     "text": [
      "New list is : [1, 3, 5, 7, 9]\n"
     ]
    }
   ],
   "source": [
    "test_list = [1,3,7,9]\n",
    "\n",
    "element = 5\n",
    "\n",
    "test_list.insert(2,element)\n",
    "print('New list is :',test_list)"
   ]
  },
  {
   "cell_type": "markdown",
   "id": "5f6dd68c",
   "metadata": {},
   "source": [
    "5. Remove an element from a list by its value."
   ]
  },
  {
   "cell_type": "code",
   "execution_count": 17,
   "id": "361c04dc",
   "metadata": {},
   "outputs": [
    {
     "name": "stdout",
     "output_type": "stream",
     "text": [
      "Updated list is : [1, 2, 3, 4, 5]\n"
     ]
    }
   ],
   "source": [
    "given_list = [1,2,3,4,5,10]\n",
    "\n",
    "remove_element = 10\n",
    "\n",
    "given_list.remove(remove_element)\n",
    "print('Updated list is :',given_list)"
   ]
  },
  {
   "cell_type": "markdown",
   "id": "564523ff",
   "metadata": {},
   "source": [
    "6. Remove an element from a list by its index."
   ]
  },
  {
   "cell_type": "code",
   "execution_count": 20,
   "id": "d6b15bbf",
   "metadata": {},
   "outputs": [
    {
     "name": "stdout",
     "output_type": "stream",
     "text": [
      "Updated list is : [5, 10, 20, 25]\n"
     ]
    }
   ],
   "source": [
    "given_list = [5,10,15,20,25]\n",
    "\n",
    "index_of_element = 2\n",
    "\n",
    "given_list.pop(index_of_element)\n",
    "\n",
    "print('Updated list is :',given_list)"
   ]
  },
  {
   "cell_type": "markdown",
   "id": "d4ddece1",
   "metadata": {},
   "source": [
    "7. Check if an element exists in a list."
   ]
  },
  {
   "cell_type": "code",
   "execution_count": 21,
   "id": "1c95b543",
   "metadata": {},
   "outputs": [
    {
     "name": "stdout",
     "output_type": "stream",
     "text": [
      "The item is present inside list\n"
     ]
    }
   ],
   "source": [
    "given_list = [5,10,15,20,25]\n",
    "item_to_check = 15\n",
    "\n",
    "if item_to_check in given_list:\n",
    "    print('The item is present inside list')\n",
    "else:\n",
    "    print ('The item is Not present inside list')"
   ]
  },
  {
   "cell_type": "markdown",
   "id": "b52fbcac",
   "metadata": {},
   "source": [
    "8. Find the index of the first occurrence of an element in a list."
   ]
  },
  {
   "cell_type": "code",
   "execution_count": 10,
   "id": "72835a9e",
   "metadata": {},
   "outputs": [
    {
     "name": "stdout",
     "output_type": "stream",
     "text": [
      "The ist index of :[5, 10, 15, 20, 15, 3, 15, 25], is : 2\n"
     ]
    }
   ],
   "source": [
    "given_list = [5,10,15,20,15,3,15,25]\n",
    "item_to_check = 15\n",
    "\n",
    "check_index = given_list.index(item_to_check)\n",
    "\n",
    "print(f'The ist index of :{given_list}, is : {check_index}')"
   ]
  },
  {
   "cell_type": "markdown",
   "id": "ef4097bd",
   "metadata": {},
   "source": [
    "9. Count the occurrences of an element in a list."
   ]
  },
  {
   "cell_type": "code",
   "execution_count": 12,
   "id": "7a7a3875",
   "metadata": {},
   "outputs": [
    {
     "name": "stdout",
     "output_type": "stream",
     "text": [
      "The item 15 occures 3 times\n"
     ]
    }
   ],
   "source": [
    "given_list = [5,10,15,20,15,3,15,25]\n",
    "item_to_check = 15\n",
    "\n",
    "count = given_list.count(item_to_check)\n",
    "\n",
    "print(f'The item {item_to_check} occures {count} times')"
   ]
  },
  {
   "cell_type": "markdown",
   "id": "eb301d4e",
   "metadata": {},
   "source": [
    "10. Reverse the order of elements in a list."
   ]
  },
  {
   "cell_type": "code",
   "execution_count": 16,
   "id": "557081fe",
   "metadata": {},
   "outputs": [
    {
     "name": "stdout",
     "output_type": "stream",
     "text": [
      "The reverse list is [25, 3, 20, 15, 10, 5]\n"
     ]
    }
   ],
   "source": [
    "given_list = [5,10,15,20,3,25]\n",
    "given_list.reverse()\n",
    "\n",
    "print(f'The reverse list is {given_list}')"
   ]
  },
  {
   "cell_type": "markdown",
   "id": "df95e0f3",
   "metadata": {},
   "source": [
    "11. Sort a list in ascending order."
   ]
  },
  {
   "cell_type": "code",
   "execution_count": 18,
   "id": "498a68ff",
   "metadata": {},
   "outputs": [
    {
     "name": "stdout",
     "output_type": "stream",
     "text": [
      "the ascending order of list is [3, 5, 10, 15, 20, 25]\n"
     ]
    }
   ],
   "source": [
    "given_list = [5,10,15,20,3,25]\n",
    "\n",
    "given_list.sort()\n",
    "\n",
    "print(f'the ascending order of list is {given_list}')"
   ]
  },
  {
   "cell_type": "markdown",
   "id": "b692842d",
   "metadata": {},
   "source": [
    "12. Sort a list in descending order."
   ]
  },
  {
   "cell_type": "code",
   "execution_count": 22,
   "id": "cbd2c0ff",
   "metadata": {},
   "outputs": [
    {
     "name": "stdout",
     "output_type": "stream",
     "text": [
      "the descending order of list is [25, 20, 15, 10, 5, 3]\n"
     ]
    }
   ],
   "source": [
    "given_list = [5,10,15,20,3,25]\n",
    "\n",
    "given_list.sort(reverse=True)\n",
    "\n",
    "print(f'the descending order of list is {given_list}')"
   ]
  },
  {
   "cell_type": "markdown",
   "id": "5684900d",
   "metadata": {},
   "source": [
    "13. Create a list of even numbers from 1 to 20."
   ]
  },
  {
   "cell_type": "code",
   "execution_count": 30,
   "id": "e153681c",
   "metadata": {},
   "outputs": [
    {
     "name": "stdout",
     "output_type": "stream",
     "text": [
      "The list of even numbers is : [2, 4, 6, 8, 10, 12, 14, 16, 18, 20]\n"
     ]
    }
   ],
   "source": [
    "my_list = [i for i in range (2,21,2)]\n",
    "\n",
    "print(f'The list of even numbers is : {my_list}')"
   ]
  },
  {
   "cell_type": "markdown",
   "id": "df3649a1",
   "metadata": {},
   "source": [
    "14. Create a list of odd numbers from 1 to 20."
   ]
  },
  {
   "cell_type": "code",
   "execution_count": 31,
   "id": "8afa55e0",
   "metadata": {},
   "outputs": [
    {
     "name": "stdout",
     "output_type": "stream",
     "text": [
      "The list of odd numbers is : [1, 3, 5, 7, 9, 11, 13, 15, 17, 19]\n"
     ]
    }
   ],
   "source": [
    "my_list = [i for i in range (1,21,2)]\n",
    "\n",
    "print(f'The list of odd numbers is : {my_list}')"
   ]
  },
  {
   "cell_type": "markdown",
   "id": "31a82fe3",
   "metadata": {},
   "source": [
    "15. Find the sum of all elements in a list."
   ]
  },
  {
   "cell_type": "code",
   "execution_count": 33,
   "id": "d5d0472d",
   "metadata": {},
   "outputs": [
    {
     "name": "stdout",
     "output_type": "stream",
     "text": [
      "The sum of items in list is : 28\n"
     ]
    }
   ],
   "source": [
    "my_list = [1,2,3,4,5,6,7]\n",
    "\n",
    "sum_of = sum(my_list)\n",
    "\n",
    "print(f'The sum of items in list is : {sum_of}')"
   ]
  },
  {
   "cell_type": "markdown",
   "id": "07f51879",
   "metadata": {},
   "source": [
    "16. Find the maximum value in a list."
   ]
  },
  {
   "cell_type": "code",
   "execution_count": 35,
   "id": "6d65a317",
   "metadata": {},
   "outputs": [
    {
     "name": "stdout",
     "output_type": "stream",
     "text": [
      "The maximum value in list is : 54\n"
     ]
    }
   ],
   "source": [
    "my_list = [2,5,3,1,54,23]\n",
    "max_in_list = max(my_list)\n",
    "\n",
    "print(f'The maximum value in list is : {max_in_list}')"
   ]
  },
  {
   "cell_type": "markdown",
   "id": "0d6fe8bb",
   "metadata": {},
   "source": [
    "17. Find the minimum value in a list."
   ]
  },
  {
   "cell_type": "code",
   "execution_count": 36,
   "id": "61f8559d",
   "metadata": {},
   "outputs": [
    {
     "name": "stdout",
     "output_type": "stream",
     "text": [
      "The minimum value in list is : 1\n"
     ]
    }
   ],
   "source": [
    "my_list = [2,5,3,1,54,23]\n",
    "min_in_list = min(my_list)\n",
    "\n",
    "print(f'The minimum value in list is : {min_in_list}')"
   ]
  },
  {
   "cell_type": "markdown",
   "id": "b5208324",
   "metadata": {},
   "source": [
    "18. Create a list of squares of numbers from 1 to 10."
   ]
  },
  {
   "cell_type": "code",
   "execution_count": 39,
   "id": "69101a5d",
   "metadata": {},
   "outputs": [
    {
     "name": "stdout",
     "output_type": "stream",
     "text": [
      "Sqaure of ist 10 numbers is : [1, 4, 9, 16, 25, 36, 49, 64, 81, 100]\n"
     ]
    }
   ],
   "source": [
    "square_of = [a**2 for a in range (1,11)]\n",
    "print('Sqaure of ist 10 numbers is :',square_of)"
   ]
  },
  {
   "cell_type": "markdown",
   "id": "187df075",
   "metadata": {},
   "source": [
    "19. Create a list of random numbers."
   ]
  },
  {
   "cell_type": "code",
   "execution_count": 41,
   "id": "3968e182",
   "metadata": {
    "scrolled": true
   },
   "outputs": [
    {
     "name": "stdout",
     "output_type": "stream",
     "text": [
      "List of random integers: [65, 35, 76, 55, 36, 94, 44, 53, 79, 69]\n"
     ]
    }
   ],
   "source": [
    "import random\n",
    "\n",
    "# Create a list of random integers between 1 and 100\n",
    "random_integers = [random.randint(1, 100) for r in range(10)]\n",
    "\n",
    "# Print the list of random integers\n",
    "print(\"List of random integers:\", random_integers)"
   ]
  },
  {
   "cell_type": "markdown",
   "id": "6f1cb5e5",
   "metadata": {},
   "source": [
    "20. Remove duplicates from a list."
   ]
  },
  {
   "cell_type": "code",
   "execution_count": 1,
   "id": "0c1237d7",
   "metadata": {},
   "outputs": [
    {
     "name": "stdout",
     "output_type": "stream",
     "text": [
      "list with no duplicates :  [1, 2, 3, 4, 5, 6]\n"
     ]
    }
   ],
   "source": [
    "my_list = [ 1,2,3,3,4,4,5,6]\n",
    "\n",
    "unique_list = list(set(my_list))\n",
    "print('list with no duplicates : ',unique_list)"
   ]
  },
  {
   "cell_type": "markdown",
   "id": "27494c9e",
   "metadata": {},
   "source": [
    "21. Find the common elements between two lists."
   ]
  },
  {
   "cell_type": "code",
   "execution_count": 9,
   "id": "0c8f0bc1",
   "metadata": {},
   "outputs": [
    {
     "name": "stdout",
     "output_type": "stream",
     "text": [
      "common items [8, 9]\n"
     ]
    }
   ],
   "source": [
    "list1 = [1,3,5,7,8,9]\n",
    "list2 = [2,4,6,8,9,10]\n",
    "common_list = []\n",
    "for i in list1:\n",
    "    if i in list2:\n",
    "        common_list.append(i)\n",
    "\n",
    "print('common items',common_list)"
   ]
  },
  {
   "cell_type": "markdown",
   "id": "8059f56b",
   "metadata": {},
   "source": [
    "22. Find the difference between two lists."
   ]
  },
  {
   "cell_type": "code",
   "execution_count": 11,
   "id": "6dcf5253",
   "metadata": {},
   "outputs": [
    {
     "name": "stdout",
     "output_type": "stream",
     "text": [
      "difference is :  [1, 3, 5, 7]\n"
     ]
    }
   ],
   "source": [
    "list1 = [1,3,5,7,8,9]\n",
    "list2 = [2,4,6,8,9,10]\n",
    "\n",
    "differnce = list(set(list1).difference(list2))\n",
    "print('difference is : ',differnce)"
   ]
  },
  {
   "cell_type": "markdown",
   "id": "2a550042",
   "metadata": {},
   "source": [
    "23. Merge two lists."
   ]
  },
  {
   "cell_type": "code",
   "execution_count": 15,
   "id": "7b1e4da8",
   "metadata": {},
   "outputs": [
    {
     "name": "stdout",
     "output_type": "stream",
     "text": [
      "Merged list is : [1, 3, 5, 7, 8, 9, 2, 4, 6, 8, 9, 10]\n"
     ]
    }
   ],
   "source": [
    "list1 = [1,3,5,7,8,9]\n",
    "list2 = [2,4,6,8,9,10]\n",
    "merge = list1 +list2\n",
    "print('Merged list is :',merge)"
   ]
  },
  {
   "cell_type": "markdown",
   "id": "b77ac553",
   "metadata": {},
   "source": [
    "24. Multiply all elements in a list by 2."
   ]
  },
  {
   "cell_type": "code",
   "execution_count": 19,
   "id": "e18a1e48",
   "metadata": {},
   "outputs": [
    {
     "name": "stdout",
     "output_type": "stream",
     "text": [
      "List multiplied by 2 is :  [2, 6, 10]\n"
     ]
    }
   ],
   "source": [
    "list1 = [1,3,5]\n",
    "\n",
    "mult = [i*2 for i in list1]\n",
    "print('List multiplied by 2 is : ',mult)"
   ]
  },
  {
   "cell_type": "markdown",
   "id": "aa6ee986",
   "metadata": {},
   "source": [
    "25. Filter out all even numbers from a list."
   ]
  },
  {
   "cell_type": "code",
   "execution_count": 24,
   "id": "3a312edb",
   "metadata": {},
   "outputs": [
    {
     "name": "stdout",
     "output_type": "stream",
     "text": [
      "List witout even numbers : [1, 5, 9]\n"
     ]
    }
   ],
   "source": [
    "list1 = [1,2,4,5,8,9,10]\n",
    "filter_list = []\n",
    "for i in list1:\n",
    "    if i%2!=0:\n",
    "        filter_list.append(i)\n",
    "print('List witout even numbers :',filter_list)"
   ]
  },
  {
   "cell_type": "markdown",
   "id": "9651d0a4",
   "metadata": {},
   "source": [
    "26. Convert a list of strings to a list of integers."
   ]
  },
  {
   "cell_type": "code",
   "execution_count": 6,
   "id": "2c635646",
   "metadata": {},
   "outputs": [
    {
     "name": "stdout",
     "output_type": "stream",
     "text": [
      "Integer list is :  [1, 2, 4, 5, 8]\n"
     ]
    }
   ],
   "source": [
    "list1 = ['1','2','4','5','8']\n",
    "new_list = [int(i) for i in list1]\n",
    "\n",
    "print('Integer list is : ',new_list)"
   ]
  },
  {
   "cell_type": "markdown",
   "id": "667eb650",
   "metadata": {},
   "source": [
    "27. Convert a list of integers to a list of strings."
   ]
  },
  {
   "cell_type": "code",
   "execution_count": 8,
   "id": "f37d4b92",
   "metadata": {},
   "outputs": [
    {
     "name": "stdout",
     "output_type": "stream",
     "text": [
      "String list is : ['1', '2', '4', '5', '8', '9', '10']\n"
     ]
    }
   ],
   "source": [
    "list1 = [1,2,4,5,8,9,10]\n",
    "new_list = [str(i) for i in list1]\n",
    "\n",
    "print('String list is :',new_list)"
   ]
  },
  {
   "cell_type": "markdown",
   "id": "c00b5648",
   "metadata": {},
   "source": [
    "28. Flatten a nested list."
   ]
  },
  {
   "cell_type": "code",
   "execution_count": 11,
   "id": "b81f6d95",
   "metadata": {},
   "outputs": [
    {
     "name": "stdout",
     "output_type": "stream",
     "text": [
      "Flattened list: [1, 2, 3, 4, 5, 6, 7, 8, 9]\n"
     ]
    }
   ],
   "source": [
    "my_list = [[1, 2, 3], [4, 5], [6, 7, 8, 9]]\n",
    "\n",
    "# Define a Function :\n",
    "def flatten_list(clear_nest):\n",
    "    flattened = []\n",
    "    for i in clear_nest:\n",
    "        if isinstance(i, list):\n",
    "            flattened.extend(flatten_list(i))\n",
    "        else:\n",
    "            flattened.append(i)\n",
    "    return flattened\n",
    "\n",
    "# Flatten the nested list\n",
    "flattened_list = flatten_list(my_list)\n",
    "\n",
    "# Print the flattened list\n",
    "print(\"Flattened list:\", flattened_list)"
   ]
  },
  {
   "cell_type": "markdown",
   "id": "ffa4429d",
   "metadata": {},
   "source": [
    "29. Create a list of the first 10 Fibonacci numbers."
   ]
  },
  {
   "cell_type": "code",
   "execution_count": 14,
   "id": "d2c86b6f",
   "metadata": {},
   "outputs": [
    {
     "name": "stdout",
     "output_type": "stream",
     "text": [
      "Ist 10 Fibonnaci numbers : [0, 1, 1, 2, 3, 5, 8, 13, 21, 34]\n"
     ]
    }
   ],
   "source": [
    "def fibonacci(num):\n",
    "    fibonacci_series = [0,1]\n",
    "    for i in range(2,num):\n",
    "        next_num = fibonacci_series[i - 1] + fibonacci_series[i - 2]\n",
    "        fibonacci_series.append(next_num)\n",
    "\n",
    "    return fibonacci_series\n",
    "#test\n",
    "fibonacci_ = fibonacci(10)\n",
    "print(\"First 10 Fibonnaci numbers :\",fibonacci_)"
   ]
  },
  {
   "cell_type": "markdown",
   "id": "d378c76f",
   "metadata": {},
   "source": [
    "30. Check if a list is sorted."
   ]
  },
  {
   "cell_type": "code",
   "execution_count": 15,
   "id": "6c20f652",
   "metadata": {},
   "outputs": [
    {
     "name": "stdout",
     "output_type": "stream",
     "text": [
      "The list is not in ascending order\n"
     ]
    }
   ],
   "source": [
    "def sorted_check(l1):\n",
    "    for i in range(1, len(l1)):\n",
    "        if l1[i] < l1[i - 1]:\n",
    "            return False\n",
    "    return True\n",
    "\n",
    "# Test\n",
    "l1 = [10, 20, 60, 40, 50]\n",
    "\n",
    "if sorted_check(l1):\n",
    "    print('The list is in ascending order i,e;sorted)')\n",
    "else:\n",
    "    print('The list is not in ascending order')"
   ]
  },
  {
   "cell_type": "markdown",
   "id": "43136c26",
   "metadata": {},
   "source": [
    "31. Rotate a list to the left by n positions."
   ]
  },
  {
   "cell_type": "code",
   "execution_count": 17,
   "id": "0f92655c",
   "metadata": {},
   "outputs": [
    {
     "name": "stdout",
     "output_type": "stream",
     "text": [
      "Rotated list: [3, 5, 7, 9, 0, 2, 4]\n"
     ]
    }
   ],
   "source": [
    "list1 = [ 0, 2, 4, 3, 5, 7, 9,]\n",
    "\n",
    "# Define Function to rotate/change index\n",
    "def rotate_left(lst, n):\n",
    "    n = n % len(lst)  # Normalize n to handle cases where n is larger than the list length\n",
    "    \n",
    "    rotated = lst[n:] + lst[:n]\n",
    "    return rotated\n",
    "\n",
    "# Rotate the list to the left by n positions\n",
    "rotated_list = rotate_left(list1, 3)\n",
    "\n",
    "# Print the rotated list\n",
    "print(\"Rotated list:\", rotated_list)"
   ]
  },
  {
   "cell_type": "markdown",
   "id": "a86a3786",
   "metadata": {},
   "source": [
    "31. Rotate a list to the right by n positions."
   ]
  },
  {
   "cell_type": "code",
   "execution_count": 19,
   "id": "6692b5a8",
   "metadata": {},
   "outputs": [
    {
     "name": "stdout",
     "output_type": "stream",
     "text": [
      "Rotated List : [0, 2, 4, 3, 5, 7, 9]\n"
     ]
    }
   ],
   "source": [
    "def rotate_right(lst, n):\n",
    "    n = n% len(lst)\n",
    "    rotated = lst[n:] + lst[:n]\n",
    "    return rotated\n",
    "\n",
    "#test\n",
    "list1 = [3, 5, 7, 9, 0, 2, 4]\n",
    "\n",
    "rotated_lst = rotate_right(list1, 4)\n",
    "print('Rotated List :',rotated_lst)"
   ]
  },
  {
   "cell_type": "markdown",
   "id": "b8923db8",
   "metadata": {},
   "source": [
    "33. Create a list of prime numbers up to 50."
   ]
  },
  {
   "cell_type": "code",
   "execution_count": 44,
   "id": "6f9a878b",
   "metadata": {},
   "outputs": [
    {
     "name": "stdout",
     "output_type": "stream",
     "text": [
      "List of 50 Prime Numbers is : [2, 3, 5, 7, 11, 13, 17, 19, 23, 29, 31, 37, 41, 43, 47]\n"
     ]
    }
   ],
   "source": [
    "num = list(range(2,50))\n",
    "prime = []\n",
    "for i in num:\n",
    "    c = 0\n",
    "    for j in range(1,i):\n",
    "        if i%j == 0:\n",
    "            c+=1\n",
    "    if c==1:\n",
    "        prime.append(i)\n",
    "print(\"List of 50 Prime Numbers is :\",prime)"
   ]
  },
  {
   "cell_type": "markdown",
   "id": "e4ee8e14",
   "metadata": {},
   "source": [
    "34. Split a list into chunks of size n."
   ]
  },
  {
   "cell_type": "markdown",
   "id": "c4cc741e",
   "metadata": {},
   "source": [
    "35. Find the second largest number in a list."
   ]
  },
  {
   "cell_type": "code",
   "execution_count": 3,
   "id": "9b684262",
   "metadata": {},
   "outputs": [
    {
     "name": "stdout",
     "output_type": "stream",
     "text": [
      "2nd Largest Number is 9\n"
     ]
    }
   ],
   "source": [
    "eg_list = [2,4,1,7,9,15]\n",
    "sort_list = sorted(set(eg_list))\n",
    "if len(sort_list) >= 2:\n",
    "    second_largest = sort_list[-2]\n",
    "    print('2nd Largest Number is', second_largest)\n",
    "else:\n",
    "    print('Not enough elements inside the given list')"
   ]
  },
  {
   "cell_type": "markdown",
   "id": "84064237",
   "metadata": {},
   "source": [
    "36. Replace every element in a list with its square."
   ]
  },
  {
   "cell_type": "code",
   "execution_count": 4,
   "id": "86a008d9",
   "metadata": {},
   "outputs": [
    {
     "name": "stdout",
     "output_type": "stream",
     "text": [
      "Square of given list : [4, 9, 25, 36, 81]\n"
     ]
    }
   ],
   "source": [
    "my_list = [2,3,5,6,9]\n",
    "\n",
    "square_of_list = [a **2 for a in my_list]\n",
    "\n",
    "print(\"Square of given list :\", square_of_list)"
   ]
  },
  {
   "cell_type": "markdown",
   "id": "6d3ff00a",
   "metadata": {},
   "source": [
    "37. Convert a list to a dictionary where list elements become keys and their indices become values."
   ]
  },
  {
   "cell_type": "code",
   "execution_count": 5,
   "id": "cd0f230e",
   "metadata": {},
   "outputs": [
    {
     "name": "stdout",
     "output_type": "stream",
     "text": [
      "Converted list to dictionary is : {'violet': 0, 'indigo': 1, 'blue': 2, 'green': 3}\n"
     ]
    }
   ],
   "source": [
    "my_list = ['violet', 'indigo', 'blue', 'green']\n",
    "\n",
    "dictionary = {element : index for index, element in enumerate(my_list)}\n",
    "\n",
    "print(\"Converted list to dictionary is :\",dictionary)"
   ]
  },
  {
   "cell_type": "markdown",
   "id": "5bc29006",
   "metadata": {},
   "source": [
    "38. Shuffle the elements of a list randomly."
   ]
  },
  {
   "cell_type": "code",
   "execution_count": 10,
   "id": "0cc272e4",
   "metadata": {},
   "outputs": [
    {
     "name": "stdout",
     "output_type": "stream",
     "text": [
      "Shuffeled list : [4, 8, 6, 1, 3, 2, 3]\n"
     ]
    }
   ],
   "source": [
    "import random\n",
    "my_list = [ 1,2,3,4,6,8,3]\n",
    "\n",
    "random.shuffle(my_list)\n",
    "\n",
    "print('Shuffeled list :',my_list)"
   ]
  },
  {
   "cell_type": "markdown",
   "id": "c0d4d75b",
   "metadata": {},
   "source": [
    "39. Create a list of the first 10 factorial numbers."
   ]
  },
  {
   "cell_type": "code",
   "execution_count": 11,
   "id": "c9659415",
   "metadata": {},
   "outputs": [
    {
     "name": "stdout",
     "output_type": "stream",
     "text": [
      "Factorail of ist 10 numbers is : [1, 1, 2, 6, 24, 120, 720, 5040, 40320, 362880]\n"
     ]
    }
   ],
   "source": [
    "def factorial(n):\n",
    "    if n ==0 or n==1:\n",
    "        return 1\n",
    "    else:\n",
    "        return n* factorial(n-1)\n",
    "#test function\n",
    "fact = [factorial(i) for i in range(10)]\n",
    "print('Factorail of ist 10 numbers is :', fact)"
   ]
  },
  {
   "cell_type": "markdown",
   "id": "d7b37b8b",
   "metadata": {},
   "source": [
    "40. Check if two lists have at least one element in common."
   ]
  },
  {
   "cell_type": "code",
   "execution_count": 14,
   "id": "d2cfb868",
   "metadata": {},
   "outputs": [
    {
     "name": "stdout",
     "output_type": "stream",
     "text": [
      "The lists have atleast 1 common element\n"
     ]
    }
   ],
   "source": [
    "def check_commom_element(l1,l2):\n",
    "    for i in l1:\n",
    "        if i in l2:\n",
    "            return True\n",
    "    else:\n",
    "        return False\n",
    "# test function\n",
    "l1 = [0,2,4,7]\n",
    "l2 = [1,3,5,7]\n",
    "if check_commom_element(l1,l2):\n",
    "    print('The lists have atleast 1 common element')\n",
    "else:\n",
    "    print('The lists have no common element')"
   ]
  },
  {
   "cell_type": "markdown",
   "id": "ab9074a0",
   "metadata": {},
   "source": [
    "41. Remove all elements from a list."
   ]
  },
  {
   "cell_type": "code",
   "execution_count": 15,
   "id": "043165ad",
   "metadata": {},
   "outputs": [
    {
     "name": "stdout",
     "output_type": "stream",
     "text": [
      "The empty list is []\n"
     ]
    }
   ],
   "source": [
    "my_list = [1,2,3,4,5,5]\n",
    "\n",
    "my_list.clear()\n",
    "print(\"The empty list is\", my_list)"
   ]
  },
  {
   "cell_type": "markdown",
   "id": "5ab4249b",
   "metadata": {},
   "source": [
    "42. Replace negative numbers in a list with 0."
   ]
  },
  {
   "cell_type": "code",
   "execution_count": 16,
   "id": "34c0fbaf",
   "metadata": {},
   "outputs": [
    {
     "name": "stdout",
     "output_type": "stream",
     "text": [
      "The list with no negative element is : [1, 0, 0, 5, 0, 10]\n"
     ]
    }
   ],
   "source": [
    "my_list = [1, -2, -4, 5, -56, 10]\n",
    "\n",
    "for a in range(len(my_list)):\n",
    "    if my_list[a] < 0:\n",
    "        my_list[a] = 0\n",
    "print('The list with no negative element is :',my_list)"
   ]
  },
  {
   "cell_type": "markdown",
   "id": "23cbd4b3",
   "metadata": {},
   "source": [
    "43. Convert a string into a list of words."
   ]
  },
  {
   "cell_type": "code",
   "execution_count": 18,
   "id": "b198f0b5",
   "metadata": {},
   "outputs": [
    {
     "name": "stdout",
     "output_type": "stream",
     "text": [
      "The split list is : ['Hello', 'world', 'this', 'is', 'data', 'science']\n"
     ]
    }
   ],
   "source": [
    "string = 'Hello world this is data science'\n",
    "words_split = string.split()\n",
    "print('The split list is :',words)"
   ]
  },
  {
   "cell_type": "markdown",
   "id": "355c4347",
   "metadata": {},
   "source": [
    "44. Convert a list of words into a string."
   ]
  },
  {
   "cell_type": "code",
   "execution_count": 20,
   "id": "76378c38",
   "metadata": {},
   "outputs": [
    {
     "name": "stdout",
     "output_type": "stream",
     "text": [
      "Converted string is : hello world welcome to python\n"
     ]
    }
   ],
   "source": [
    "my_list = ['hello', 'world', 'welcome', 'to', 'python']\n",
    "\n",
    "joined_string = \" \".join(my_list)\n",
    "\n",
    "print('Converted string is :',joined_string)"
   ]
  },
  {
   "cell_type": "markdown",
   "id": "1252b5fd",
   "metadata": {},
   "source": [
    "45. Create a list of the first n powers of 2."
   ]
  },
  {
   "cell_type": "code",
   "execution_count": 21,
   "id": "74ab6f86",
   "metadata": {},
   "outputs": [
    {
     "name": "stdout",
     "output_type": "stream",
     "text": [
      "List of n powers is:  [1, 2, 4, 8, 16, 32]\n"
     ]
    }
   ],
   "source": [
    "n = 6\n",
    "\n",
    "power_list = [2 ** i for i in range(n)]\n",
    "print('List of n powers is: ',power_list)"
   ]
  },
  {
   "cell_type": "markdown",
   "id": "2ad14e84",
   "metadata": {},
   "source": [
    "46. Find the longest string in a list of strings"
   ]
  },
  {
   "cell_type": "code",
   "execution_count": 23,
   "id": "10e26c10",
   "metadata": {},
   "outputs": [
    {
     "name": "stdout",
     "output_type": "stream",
     "text": [
      "Longest string is:  welcome\n"
     ]
    }
   ],
   "source": [
    "str_list = ['hello', 'world', 'welcome', 'to', 'python']\n",
    "longest_string = ''\n",
    "for i in str_list:\n",
    "    if len(i) > len(longest_string):\n",
    "        longest_string = i\n",
    "print('Longest string is: ',longest_string)"
   ]
  },
  {
   "cell_type": "markdown",
   "id": "e6cabccc",
   "metadata": {},
   "source": [
    "47. Find the shortest string in a list of strings."
   ]
  },
  {
   "cell_type": "code",
   "execution_count": 25,
   "id": "cd6d1819",
   "metadata": {},
   "outputs": [
    {
     "name": "stdout",
     "output_type": "stream",
     "text": [
      "shortest string is:  to\n"
     ]
    }
   ],
   "source": [
    "str_list = ['hello', 'world', 'welcome', 'to', 'python']\n",
    "shortest_string = str_list[0]\n",
    "for i in str_list:\n",
    "    if len(i) < len(shortest_string):\n",
    "        shortest_string = i\n",
    "print('shortest string is: ',shortest_string)"
   ]
  },
  {
   "cell_type": "markdown",
   "id": "af53787d",
   "metadata": {},
   "source": [
    "48. Create a list of the first n triangular numbers."
   ]
  },
  {
   "cell_type": "code",
   "execution_count": 26,
   "id": "ef8e4c46",
   "metadata": {},
   "outputs": [
    {
     "name": "stdout",
     "output_type": "stream",
     "text": [
      "List of triangular numbers is : [1, 3, 6, 10, 15]\n"
     ]
    }
   ],
   "source": [
    "def triangular_num(n):\n",
    "    return [ i * (i + 1)// 2 for i in range(1, n+1)]\n",
    "n = 5\n",
    "triangulat_list = triangular_num(n)\n",
    "print('List of triangular numbers is :', triangulat_list)"
   ]
  },
  {
   "cell_type": "markdown",
   "id": "72a19d8e",
   "metadata": {},
   "source": [
    "49. Check if a list contains another list as a subsequence."
   ]
  },
  {
   "cell_type": "code",
   "execution_count": 28,
   "id": "b0e80376",
   "metadata": {},
   "outputs": [
    {
     "name": "stdout",
     "output_type": "stream",
     "text": [
      "My list contains the subsequence.\n"
     ]
    }
   ],
   "source": [
    "def check_subsequence(subsequence, my_list):\n",
    "    subseq_index = 0\n",
    "    for i in my_list:\n",
    "        if i == subsequence[subseq_index]:\n",
    "            subseq_index += 1\n",
    "            if subseq_index == len(subsequence):\n",
    "                return True\n",
    "    return False\n",
    "\n",
    "#test function\n",
    "my_list = [1,2,3,4,5,6,7,8,9,10]\n",
    "subsequence = [1,3,5]\n",
    "\n",
    "if check_subsequence(subsequence, my_list):\n",
    "    print(\"My list contains the subsequence.\")\n",
    "else:\n",
    "    print(\"My list does not contain the subsequence.\")"
   ]
  },
  {
   "cell_type": "markdown",
   "id": "5f4a0e41",
   "metadata": {},
   "source": [
    "50. Swap two elements in a list by their indices."
   ]
  },
  {
   "cell_type": "code",
   "execution_count": 29,
   "id": "b25c9673",
   "metadata": {},
   "outputs": [
    {
     "name": "stdout",
     "output_type": "stream",
     "text": [
      "List after swapping elements: [1, 6, 3, 4, 5, 2, 7]\n"
     ]
    }
   ],
   "source": [
    "my_list = [1, 2, 3, 4, 5, 6, 7]\n",
    "\n",
    "index1 = 1\n",
    "index2 = 5\n",
    "\n",
    "# Swap the elements\n",
    "temp = my_list[index1]\n",
    "my_list[index1] = my_list[index2]\n",
    "my_list[index2] = temp\n",
    "\n",
    "# Print the result\n",
    "print(\"List after swapping elements:\", my_list)"
   ]
  },
  {
   "cell_type": "markdown",
   "id": "61c2ad66",
   "metadata": {},
   "source": [
    "# Tuple Based Questions"
   ]
  },
  {
   "cell_type": "markdown",
   "id": "4b779750",
   "metadata": {},
   "source": [
    "1. Create a tuple with integers from 1 to 5."
   ]
  },
  {
   "cell_type": "code",
   "execution_count": 7,
   "id": "b0e54d09",
   "metadata": {},
   "outputs": [
    {
     "name": "stdout",
     "output_type": "stream",
     "text": [
      "Tuple of integers from 1-5 : (1, 2, 3, 4, 5)\n"
     ]
    }
   ],
   "source": [
    "my_tuple = tuple(range(1,6))\n",
    "print('Tuple of integers from 1-5 :',my_tuple)"
   ]
  },
  {
   "cell_type": "markdown",
   "id": "6ec82280",
   "metadata": {},
   "source": [
    "2. Access the third element of a tuple."
   ]
  },
  {
   "cell_type": "code",
   "execution_count": 8,
   "id": "ed0670f6",
   "metadata": {},
   "outputs": [
    {
     "name": "stdout",
     "output_type": "stream",
     "text": [
      "3rd element is : 6\n"
     ]
    }
   ],
   "source": [
    "my_tuple = (2,4,6,8,10,12)\n",
    "third_element = my_tuple[2]\n",
    "\n",
    "print('3rd element is :',third_element)"
   ]
  },
  {
   "cell_type": "markdown",
   "id": "99395235",
   "metadata": {},
   "source": [
    "3. Find the length of a tuple without using the len() function."
   ]
  },
  {
   "cell_type": "code",
   "execution_count": 10,
   "id": "52c3b422",
   "metadata": {},
   "outputs": [
    {
     "name": "stdout",
     "output_type": "stream",
     "text": [
      "Length of Tuple is : 6\n"
     ]
    }
   ],
   "source": [
    "my_tuple = (2,4,6,8,10,12)\n",
    "count = 0\n",
    "for i in my_tuple:\n",
    "    count +=1\n",
    "print('Length of Tuple is :',count)"
   ]
  },
  {
   "cell_type": "markdown",
   "id": "2a7d9949",
   "metadata": {},
   "source": [
    "4. Count the occurrences of an element in a tuple."
   ]
  },
  {
   "cell_type": "code",
   "execution_count": 15,
   "id": "5ddc8917",
   "metadata": {},
   "outputs": [
    {
     "name": "stdout",
     "output_type": "stream",
     "text": [
      "The occurance of 2 is 3 times\n"
     ]
    }
   ],
   "source": [
    "my_tuple = (2,4,6,8,2,4,2)\n",
    "element_to_count = 2\n",
    "count = 0\n",
    "for i in my_tuple:\n",
    "    if i == element_to_count:\n",
    "        count +=1\n",
    "print(f'The occurance of {element_to_count} is {count} times')"
   ]
  },
  {
   "cell_type": "markdown",
   "id": "df923a9e",
   "metadata": {},
   "source": [
    "5. Find the index of the first occurrence of an element in a tuple."
   ]
  },
  {
   "cell_type": "code",
   "execution_count": 17,
   "id": "84f689ef",
   "metadata": {},
   "outputs": [
    {
     "name": "stdout",
     "output_type": "stream",
     "text": [
      "The first occurrence of 4 is at index 1.\n"
     ]
    }
   ],
   "source": [
    "my_tuple = (2,4,6,8,2,4,2)\n",
    "check_occurance_ist = 4\n",
    "index = -1\n",
    "for i, item in enumerate(my_tuple):\n",
    "    if item == check_occurance_ist:\n",
    "        index = i\n",
    "        break\n",
    "if index != -1:\n",
    "    print(f\"The first occurrence of {check_occurance_ist} is at index {index}.\")\n",
    "else:\n",
    "    print(f\"{check_occurance_ist} is not found in the tuple.\")"
   ]
  },
  {
   "cell_type": "markdown",
   "id": "0a70c592",
   "metadata": {},
   "source": [
    "6. Check if an element exists in a tuple."
   ]
  },
  {
   "cell_type": "code",
   "execution_count": 18,
   "id": "14d1cc08",
   "metadata": {},
   "outputs": [
    {
     "name": "stdout",
     "output_type": "stream",
     "text": [
      "10 exists in the given tuple\n"
     ]
    }
   ],
   "source": [
    "my_tuple = (1,3,5,7,9,10,11,13)\n",
    "item_to_check = 10\n",
    "if item_to_check in my_tuple:\n",
    "    print (f'{item_to_check} exists in the given tuple')\n",
    "else:\n",
    "    print (f'{item_to_check} does not exists in the given tuple')"
   ]
  },
  {
   "cell_type": "markdown",
   "id": "201ede3d",
   "metadata": {},
   "source": [
    "7. Convert a tuple to a list."
   ]
  },
  {
   "cell_type": "code",
   "execution_count": 21,
   "id": "4b3f0ed4",
   "metadata": {},
   "outputs": [
    {
     "name": "stdout",
     "output_type": "stream",
     "text": [
      "The converted tuple (1, 2, 3, 4, 5, 6) to list is [1, 2, 3, 4, 5, 6]\n"
     ]
    }
   ],
   "source": [
    "my_tuple = ( 1,2,3,4,5,6)\n",
    "conversion = list(my_tuple)\n",
    "print(f'The converted tuple {my_tuple} to list is {conversion}')"
   ]
  },
  {
   "cell_type": "markdown",
   "id": "a102d45e",
   "metadata": {},
   "source": [
    "8. Convert a list to a tuple."
   ]
  },
  {
   "cell_type": "code",
   "execution_count": 22,
   "id": "31f189eb",
   "metadata": {},
   "outputs": [
    {
     "name": "stdout",
     "output_type": "stream",
     "text": [
      " The list [1, 2, 3, 4, 5, 6] converted to tuple is (1, 2, 3, 4, 5, 6)\n"
     ]
    }
   ],
   "source": [
    "list1 = [1,2,3,4,5,6]\n",
    "list_to_tuple = tuple(list1)\n",
    "print(f' The list {list1} converted to tuple is {list_to_tuple}')"
   ]
  },
  {
   "cell_type": "markdown",
   "id": "47ffaf87",
   "metadata": {},
   "source": [
    "9. Unpack the elements of a tuple into variables."
   ]
  },
  {
   "cell_type": "code",
   "execution_count": 24,
   "id": "e1cc0604",
   "metadata": {},
   "outputs": [
    {
     "name": "stdout",
     "output_type": "stream",
     "text": [
      "Variable 1 : 2\n",
      "Variable 2 : 4\n",
      "Variable 3 : 6\n"
     ]
    }
   ],
   "source": [
    "tuple1 = ( 2, 4, 6 )\n",
    "v1, v2, v3 = tuple1\n",
    "print('Variable 1 :', v1)\n",
    "print('Variable 2 :', v2)\n",
    "print('Variable 3 :', v3)"
   ]
  },
  {
   "cell_type": "markdown",
   "id": "963eaa1f",
   "metadata": {},
   "source": [
    "10. Create a tuple of even numbers from 1 to 10."
   ]
  },
  {
   "cell_type": "code",
   "execution_count": 25,
   "id": "53918a35",
   "metadata": {},
   "outputs": [
    {
     "name": "stdout",
     "output_type": "stream",
     "text": [
      "Tuple of Even Numbers : (2, 4, 6, 8, 10)\n"
     ]
    }
   ],
   "source": [
    "list_even_num = [i for i in range (2,11,2)]\n",
    "tuple_of_even = tuple(list_even_num)\n",
    "print('Tuple of Even Numbers :',tuple_of_even)"
   ]
  },
  {
   "cell_type": "markdown",
   "id": "56b803d1",
   "metadata": {},
   "source": [
    "11. Create a tuple of odd numbers from 1 to 10."
   ]
  },
  {
   "cell_type": "code",
   "execution_count": 26,
   "id": "0597c4ab",
   "metadata": {},
   "outputs": [
    {
     "name": "stdout",
     "output_type": "stream",
     "text": [
      "Tuple of Odd Numbers : (1, 3, 5, 7, 9)\n"
     ]
    }
   ],
   "source": [
    "list_odd_num = [i for i in range (1,10,2)]\n",
    "tuple_of_odd = tuple(list_odd_num)\n",
    "print('Tuple of Odd Numbers :',tuple_of_odd)"
   ]
  },
  {
   "cell_type": "markdown",
   "id": "1b1b79f6",
   "metadata": {},
   "source": [
    "12. Concatenate two tuples."
   ]
  },
  {
   "cell_type": "code",
   "execution_count": 27,
   "id": "3259d870",
   "metadata": {},
   "outputs": [
    {
     "name": "stdout",
     "output_type": "stream",
     "text": [
      "The concatination of 2 Tuples is : (1, 3, 5, 7, 2, 4, 6, 8)\n"
     ]
    }
   ],
   "source": [
    "t1 = (1,3,5,7)\n",
    "t2 = (2,4,6,8)\n",
    "concatination = t1 + t2\n",
    "print(\"The concatination of 2 Tuples is :\",concatination)"
   ]
  },
  {
   "cell_type": "markdown",
   "id": "4c0d8e36",
   "metadata": {},
   "source": [
    "13. Repeat a tuple three times."
   ]
  },
  {
   "cell_type": "code",
   "execution_count": 28,
   "id": "c806fdc1",
   "metadata": {},
   "outputs": [
    {
     "name": "stdout",
     "output_type": "stream",
     "text": [
      "The repeated tuple is  (1, 2, 1, 2, 1, 2)\n"
     ]
    }
   ],
   "source": [
    "t1 = (1,2)\n",
    "repetition = t1 * 3\n",
    "print('The repeated tuple is ',repetition)"
   ]
  },
  {
   "cell_type": "markdown",
   "id": "da5bf40b",
   "metadata": {},
   "source": [
    "14. Check if a tuple is empty."
   ]
  },
  {
   "cell_type": "code",
   "execution_count": 29,
   "id": "a764729e",
   "metadata": {},
   "outputs": [
    {
     "name": "stdout",
     "output_type": "stream",
     "text": [
      "The tuple is empty\n",
      "The tuple is not empty\n"
     ]
    }
   ],
   "source": [
    "t1 = ()\n",
    "t2 = (1,2,3)\n",
    "if not t1:\n",
    "    print('The tuple is empty')\n",
    "else:\n",
    "    print('The tuple is not empty')\n",
    "    \n",
    "if not t2:\n",
    "    print('The tuple is empty')\n",
    "else:\n",
    "    print('The tuple is not empty')"
   ]
  },
  {
   "cell_type": "markdown",
   "id": "d41214f9",
   "metadata": {},
   "source": [
    "15. Create a nested tuple."
   ]
  },
  {
   "cell_type": "code",
   "execution_count": 30,
   "id": "9bc9d79c",
   "metadata": {},
   "outputs": [
    {
     "name": "stdout",
     "output_type": "stream",
     "text": [
      "The nested tuple : ((1, 2, 3), ('nested', 'tuple'), 'test')\n"
     ]
    }
   ],
   "source": [
    "Nested_tuple = ((1,2,3),('nested','tuple'),('test'))\n",
    "print('The nested tuple :',Nested_tuple)"
   ]
  },
  {
   "cell_type": "markdown",
   "id": "517b8104",
   "metadata": {},
   "source": [
    "16. Access the first element of a nested tuple."
   ]
  },
  {
   "cell_type": "code",
   "execution_count": 31,
   "id": "9e0c5a1b",
   "metadata": {},
   "outputs": [
    {
     "name": "stdout",
     "output_type": "stream",
     "text": [
      "Ist element of nested tuple is : (1, 2, 3)\n"
     ]
    }
   ],
   "source": [
    "Nested_tuple = ((1,2,3),('nested','tuple'),('test'))\n",
    "ist_element = Nested_tuple[0]\n",
    "print('Ist element of nested tuple is :',ist_element)"
   ]
  },
  {
   "cell_type": "markdown",
   "id": "9bb927bc",
   "metadata": {},
   "source": [
    "17. Create a tuple with a single element."
   ]
  },
  {
   "cell_type": "code",
   "execution_count": 32,
   "id": "95ec8523",
   "metadata": {},
   "outputs": [
    {
     "name": "stdout",
     "output_type": "stream",
     "text": [
      "The tuple with single element is : (1,)\n"
     ]
    }
   ],
   "source": [
    "single_element = (1,)\n",
    "print(\"The tuple with single element is :\",single_element)"
   ]
  },
  {
   "cell_type": "markdown",
   "id": "3dc6a160",
   "metadata": {},
   "source": [
    "18. Compare two tuples."
   ]
  },
  {
   "cell_type": "code",
   "execution_count": 2,
   "id": "928e60b8",
   "metadata": {},
   "outputs": [
    {
     "name": "stdout",
     "output_type": "stream",
     "text": [
      "Tuple 1 == Tuple2 : False\n",
      "Tuple 1 != Tuple2 : True\n",
      "Tuple 1 > Tuple2 : True\n",
      "Tuple 1 >= Tuple2 : True\n",
      "Tuple 1 < Tuple2 : False\n",
      "Tuple 1 <= Tuple2 : False\n"
     ]
    }
   ],
   "source": [
    "t1 = (1, 3, 5)\n",
    "t2 = (1, 2, 3)\n",
    "\n",
    "print('Tuple 1 == Tuple2 :', t1 == t2)\n",
    "print('Tuple 1 != Tuple2 :', t1 != t2)\n",
    "print('Tuple 1 > Tuple2 :', t1 > t2)\n",
    "print('Tuple 1 >= Tuple2 :', t1 >= t2)\n",
    "print('Tuple 1 < Tuple2 :', t1 < t2)\n",
    "print('Tuple 1 <= Tuple2 :', t1 <= t2)"
   ]
  },
  {
   "cell_type": "markdown",
   "id": "04b46cd9",
   "metadata": {},
   "source": [
    "19. Delete a tuple."
   ]
  },
  {
   "cell_type": "code",
   "execution_count": 3,
   "id": "774ff1f1",
   "metadata": {},
   "outputs": [
    {
     "ename": "NameError",
     "evalue": "name 'tuple1' is not defined",
     "output_type": "error",
     "traceback": [
      "\u001b[1;31m---------------------------------------------------------------------------\u001b[0m",
      "\u001b[1;31mNameError\u001b[0m                                 Traceback (most recent call last)",
      "Cell \u001b[1;32mIn[3], line 3\u001b[0m\n\u001b[0;32m      1\u001b[0m tuple1 \u001b[38;5;241m=\u001b[39m (\u001b[38;5;241m1\u001b[39m,\u001b[38;5;241m2\u001b[39m,\u001b[38;5;241m3\u001b[39m,\u001b[38;5;241m4\u001b[39m)\n\u001b[0;32m      2\u001b[0m \u001b[38;5;28;01mdel\u001b[39;00m tuple1\n\u001b[1;32m----> 3\u001b[0m \u001b[38;5;28mprint\u001b[39m(\u001b[38;5;124m'\u001b[39m\u001b[38;5;124mMy deleted tuple is: \u001b[39m\u001b[38;5;124m'\u001b[39m,tuple1)\n",
      "\u001b[1;31mNameError\u001b[0m: name 'tuple1' is not defined"
     ]
    }
   ],
   "source": [
    "tuple1 = (1,2,3,4)\n",
    "del tuple1\n",
    "print('My deleted tuple is: ',tuple1)"
   ]
  },
  {
   "cell_type": "markdown",
   "id": "9c48e2d3",
   "metadata": {},
   "source": [
    "20. Slice a tuple."
   ]
  },
  {
   "cell_type": "code",
   "execution_count": 9,
   "id": "2ff26961",
   "metadata": {},
   "outputs": [
    {
     "name": "stdout",
     "output_type": "stream",
     "text": [
      "Sliced Tuple is :  (5, 6, 7, 8, 9)\n"
     ]
    }
   ],
   "source": [
    "t1 = (1,2,3,4,5,6,7,8,9)\n",
    "sliced_tuple = t1[4:9]\n",
    "\n",
    "print('Sliced Tuple is : ',sliced_tuple)"
   ]
  },
  {
   "cell_type": "markdown",
   "id": "d7b7cc7d",
   "metadata": {},
   "source": [
    "21. Find the maximum value in a tuple."
   ]
  },
  {
   "cell_type": "code",
   "execution_count": 12,
   "id": "dc1b94be",
   "metadata": {},
   "outputs": [
    {
     "name": "stdout",
     "output_type": "stream",
     "text": [
      "Maximum Value : 23\n"
     ]
    }
   ],
   "source": [
    "t1 = (1,2,3,4,7,23,4,1,6)\n",
    "max_value = max(t1)\n",
    "\n",
    "print('Maximum Value :',max_value)"
   ]
  },
  {
   "cell_type": "code",
   "execution_count": null,
   "id": "f68052a8",
   "metadata": {},
   "outputs": [],
   "source": [
    "22. Find the minimum value in a tuple."
   ]
  },
  {
   "cell_type": "code",
   "execution_count": 13,
   "id": "9b981f9a",
   "metadata": {},
   "outputs": [
    {
     "name": "stdout",
     "output_type": "stream",
     "text": [
      "Minimum Value : 2\n"
     ]
    }
   ],
   "source": [
    "t1 = (2,14,7,23,4,11,6)\n",
    "min_value = min(t1)\n",
    "\n",
    "print('Minimum Value :',min_value)"
   ]
  },
  {
   "cell_type": "markdown",
   "id": "609d7c03",
   "metadata": {},
   "source": [
    "23. Convert a string to a tuple of characters."
   ]
  },
  {
   "cell_type": "code",
   "execution_count": 16,
   "id": "e109e999",
   "metadata": {},
   "outputs": [
    {
     "name": "stdout",
     "output_type": "stream",
     "text": [
      "Tuple of characters : ('a', 'l', 'p', 'h', 'a', ' ', 'h', 'e', 'l', 'l', 'o')\n"
     ]
    }
   ],
   "source": [
    "my_string = 'alpha hello'\n",
    "my_tuple = tuple(my_string)\n",
    "\n",
    "print('Tuple of characters :',my_tuple)"
   ]
  },
  {
   "cell_type": "markdown",
   "id": "c9c9ff81",
   "metadata": {},
   "source": [
    "24. Convert a tuple of characters to a string."
   ]
  },
  {
   "cell_type": "code",
   "execution_count": 19,
   "id": "bc97e622",
   "metadata": {},
   "outputs": [
    {
     "name": "stdout",
     "output_type": "stream",
     "text": [
      "hello world\n"
     ]
    }
   ],
   "source": [
    "my_tuple = ('h','e','l','l','o',' ','w','o','r','l','d')\n",
    "my_string = ''.join(my_tuple)\n",
    "\n",
    "print(my_string)"
   ]
  },
  {
   "cell_type": "markdown",
   "id": "6bf6bf41",
   "metadata": {},
   "source": [
    "25. Create a tuple from multiple data types."
   ]
  },
  {
   "cell_type": "code",
   "execution_count": 20,
   "id": "0358af84",
   "metadata": {},
   "outputs": [
    {
     "name": "stdout",
     "output_type": "stream",
     "text": [
      "Mixed Tuple :  ('hello', 1, 0.2, True)\n"
     ]
    }
   ],
   "source": [
    "tuple1 = ('hello', 1, 0.2, True)\n",
    "\n",
    "print('Mixed Tuple : ',tuple1)"
   ]
  },
  {
   "cell_type": "markdown",
   "id": "d82ad1f1",
   "metadata": {},
   "source": [
    "26. Check if two tuples are identical."
   ]
  },
  {
   "cell_type": "code",
   "execution_count": 22,
   "id": "2f6f83a8",
   "metadata": {},
   "outputs": [
    {
     "name": "stdout",
     "output_type": "stream",
     "text": [
      "Tuple 1 & Tuple 2 are identical : True\n",
      "Tuple 2 & Tuple 3 are identical : False\n"
     ]
    }
   ],
   "source": [
    "t1 = (1,3,5)\n",
    "t2 = (1,3,5)\n",
    "t3 = (2,4,6)\n",
    "\n",
    "t1_t2 = t1 == t2\n",
    "t2_t3 = t2 == t3\n",
    "\n",
    "print(\"Tuple 1 & Tuple 2 are identical :\", t1_t2)\n",
    "print(\"Tuple 2 & Tuple 3 are identical :\", t2_t3)"
   ]
  },
  {
   "cell_type": "markdown",
   "id": "5b7fdaed",
   "metadata": {},
   "source": [
    "27. Sort the elements of a tuple."
   ]
  },
  {
   "cell_type": "code",
   "execution_count": 23,
   "id": "2b8703a2",
   "metadata": {},
   "outputs": [
    {
     "name": "stdout",
     "output_type": "stream",
     "text": [
      "Sorted tuple : (1, 2, 3, 5, 7)\n"
     ]
    }
   ],
   "source": [
    "tuple_1 = (2,3,1,5,7)\n",
    "\n",
    "sorted_tuple = tuple(sorted(tuple_1))\n",
    "\n",
    "print('Sorted tuple :',sorted_tuple)"
   ]
  },
  {
   "cell_type": "markdown",
   "id": "d715941f",
   "metadata": {},
   "source": [
    "28. Convert a tuple of integers to a tuple of strings."
   ]
  },
  {
   "cell_type": "code",
   "execution_count": 29,
   "id": "939da1b6",
   "metadata": {},
   "outputs": [
    {
     "name": "stdout",
     "output_type": "stream",
     "text": [
      "Tuple of strings : ('1', '2', '3', '4', '5', '6')\n"
     ]
    }
   ],
   "source": [
    "tuple1 = (1,2,3,4,5,6)\n",
    "\n",
    "tuple_str = tuple(str(x) for x in tuple1)\n",
    "\n",
    "print(\"Tuple of strings :\",tuple_str)"
   ]
  },
  {
   "cell_type": "markdown",
   "id": "e53786c9",
   "metadata": {},
   "source": [
    "29. Convert a tuple of strings to a tuple of integers."
   ]
  },
  {
   "cell_type": "code",
   "execution_count": 28,
   "id": "4485901d",
   "metadata": {},
   "outputs": [
    {
     "name": "stdout",
     "output_type": "stream",
     "text": [
      "Tuple of integers:  (1, 2, 3)\n"
     ]
    }
   ],
   "source": [
    "tuple_of_str = ('1', '2', '3')\n",
    "\n",
    "tuple_of_int = tuple(int(x) for x in tuple_of_str)\n",
    "\n",
    "print(\"Tuple of integers: \",tuple_of_int)"
   ]
  },
  {
   "cell_type": "markdown",
   "id": "908010ca",
   "metadata": {},
   "source": [
    "30. Merge two tuples."
   ]
  },
  {
   "cell_type": "code",
   "execution_count": 30,
   "id": "8b50bf9c",
   "metadata": {},
   "outputs": [
    {
     "name": "stdout",
     "output_type": "stream",
     "text": [
      "Merged tuple is:  (1, 3, 5, 2, 4, 6)\n"
     ]
    }
   ],
   "source": [
    "t1 = (1,3,5)\n",
    "t2 = (2,4,6)\n",
    "\n",
    "merged_tuple = t1 + t2\n",
    "\n",
    "print(\"Merged tuple is: \",merged_tuple)"
   ]
  },
  {
   "cell_type": "markdown",
   "id": "2283b467",
   "metadata": {},
   "source": [
    "31. Flatten a nested tuple."
   ]
  },
  {
   "cell_type": "code",
   "execution_count": 3,
   "id": "549d9a14",
   "metadata": {},
   "outputs": [
    {
     "name": "stdout",
     "output_type": "stream",
     "text": [
      "Flattened Tuple:  [1, 3, 5, 2, 4, 6, 0, 10, 15]\n"
     ]
    }
   ],
   "source": [
    "def flat_tuple(nested_tuple):\n",
    "    flattened = []\n",
    "    for i in nested_tuple:\n",
    "        if isinstance(i, tuple):\n",
    "            flattened.extend(flat_tuple(i))\n",
    "        else:\n",
    "            flattened.append(i)\n",
    "    return flattened\n",
    "\n",
    "tuple_eg = ((1,3,5), (2,4,6),(0,(10,15)))\n",
    "\n",
    "tuple_flat = flat_tuple(tuple_eg)\n",
    "print('Flattened Tuple: ',tuple_flat)"
   ]
  },
  {
   "cell_type": "markdown",
   "id": "d1ed9571",
   "metadata": {},
   "source": [
    "32. Create a tuple of the first 5 prime numbers."
   ]
  },
  {
   "cell_type": "code",
   "execution_count": 4,
   "id": "d32dff3f",
   "metadata": {},
   "outputs": [
    {
     "name": "stdout",
     "output_type": "stream",
     "text": [
      "Tuple of the first 5 prime numbers: (2, 3, 5, 7, 11)\n"
     ]
    }
   ],
   "source": [
    "def prime_num(num):\n",
    "    if num <=1:\n",
    "        return False\n",
    "    for i in range (2, int(num ** 0.5) +1):\n",
    "        if num % i == 0:\n",
    "            return False\n",
    "    return True\n",
    "#test\n",
    "prime_num_list = [num for num in range(2, 100) if prime_num(num)][:5]\n",
    "\n",
    "prime_num_tuple = tuple(prime_num_list)\n",
    "\n",
    "print(\"Tuple of the first 5 prime numbers:\", prime_num_tuple)"
   ]
  },
  {
   "cell_type": "markdown",
   "id": "859cc5ae",
   "metadata": {},
   "source": [
    "3. Check if a tuple is a palindrome."
   ]
  },
  {
   "cell_type": "code",
   "execution_count": 6,
   "id": "a22b793a",
   "metadata": {},
   "outputs": [
    {
     "name": "stdout",
     "output_type": "stream",
     "text": [
      "T1 is a palindrome : True\n",
      "T2 is a plaindrome : False\n"
     ]
    }
   ],
   "source": [
    "def palindrome(i):\n",
    "    return i == i[::-1]\n",
    "# eg\n",
    "t1 = (1,2,3,2,1)\n",
    "t2 = (1,2,3,4,5)\n",
    "\n",
    "check_palindrome1 = palindrome(t1)\n",
    "check_plaindrome2 = palindrome(t2)\n",
    "\n",
    "print(\"T1 is a palindrome :\",check_palindrome1)\n",
    "print(\"T2 is a plaindrome :\", check_plaindrome2)"
   ]
  },
  {
   "cell_type": "markdown",
   "id": "599ed3b4",
   "metadata": {},
   "source": [
    "34. Create a tuple of squares of numbers from 1 to 5."
   ]
  },
  {
   "cell_type": "code",
   "execution_count": 7,
   "id": "ed8120bb",
   "metadata": {},
   "outputs": [
    {
     "name": "stdout",
     "output_type": "stream",
     "text": [
      "Square of ist 5 numbers : (1, 4, 9, 16, 25)\n"
     ]
    }
   ],
   "source": [
    "square_of = tuple(i ** 2 for i in range (1,6))\n",
    "\n",
    "print(\"Square of ist 5 numbers :\",square_of)"
   ]
  },
  {
   "cell_type": "markdown",
   "id": "f690e86e",
   "metadata": {},
   "source": [
    "35. Filter out all even numbers from a tuple."
   ]
  },
  {
   "cell_type": "code",
   "execution_count": 10,
   "id": "b25da6b8",
   "metadata": {},
   "outputs": [
    {
     "name": "stdout",
     "output_type": "stream",
     "text": [
      "Filtered even number tuple:  (2, 4, 6)\n"
     ]
    }
   ],
   "source": [
    "tuple_eg = (1, 2, 3, 4, 5, 6, 7)\n",
    "even_tuple = tuple ( i for i in tuple_eg if i % 2 != 1)\n",
    "\n",
    "print(\"Filtered even number tuple: \",even_tuple)"
   ]
  },
  {
   "cell_type": "markdown",
   "id": "20061a53",
   "metadata": {},
   "source": [
    "36. Multiply all elements in a tuple by 2."
   ]
  },
  {
   "cell_type": "code",
   "execution_count": 12,
   "id": "75219516",
   "metadata": {},
   "outputs": [
    {
     "name": "stdout",
     "output_type": "stream",
     "text": [
      "Tuple multipled by 2 is : (2, 6, 10, 14)\n"
     ]
    }
   ],
   "source": [
    "eg_tuple = ( 1, 3, 5, 7)\n",
    "\n",
    "new_tuple = tuple ( i * 2 for i in eg_tuple)\n",
    "\n",
    "print(\"Tuple multipled by 2 is :\",new_tuple)"
   ]
  },
  {
   "cell_type": "markdown",
   "id": "c098fe62",
   "metadata": {},
   "source": [
    "37. Create a tuple of random numbers."
   ]
  },
  {
   "cell_type": "code",
   "execution_count": 13,
   "id": "142a4aab",
   "metadata": {},
   "outputs": [
    {
     "name": "stdout",
     "output_type": "stream",
     "text": [
      "Tuple of Random numbers : (12, 76, 30, 99, 71, 90, 89, 69, 99)\n"
     ]
    }
   ],
   "source": [
    "import random\n",
    "\n",
    "random_tuple = tuple(random.randint(1,100) for i in range(1,10))\n",
    "\n",
    "print(\"Tuple of Random numbers :\",random_tuple)"
   ]
  },
  {
   "cell_type": "markdown",
   "id": "6ae35a14",
   "metadata": {},
   "source": [
    "38. Check if a tuple is sorted."
   ]
  },
  {
   "cell_type": "code",
   "execution_count": 14,
   "id": "0266bb21",
   "metadata": {},
   "outputs": [
    {
     "name": "stdout",
     "output_type": "stream",
     "text": [
      "T1 is a sorted tuple : True\n",
      "T2 is a sorted tuple : False\n"
     ]
    }
   ],
   "source": [
    "def check_sorted(tup):\n",
    "    for i in range(len(tup) - 1):\n",
    "        if tup[i] > tup[i + 1]:\n",
    "            return False\n",
    "    return True\n",
    "#test\n",
    "t1 = ( 1, 2, 3, 4, 5)\n",
    "t2 = ( 1, 5, 2, 3, 4)\n",
    "\n",
    "sort_check1 = check_sorted(t1)\n",
    "sort_check2 = check_sorted(t2)\n",
    "\n",
    "print(\"T1 is a sorted tuple :\",sort_check1)\n",
    "print(\"T2 is a sorted tuple :\",sort_check2)"
   ]
  },
  {
   "cell_type": "markdown",
   "id": "d9b1debf",
   "metadata": {},
   "source": [
    "39. Rotate a tuple to the left by n positions."
   ]
  },
  {
   "cell_type": "code",
   "execution_count": 16,
   "id": "3d0f2a81",
   "metadata": {},
   "outputs": [
    {
     "name": "stdout",
     "output_type": "stream",
     "text": [
      "The rotated tuple is : (3, 4, 5, 1, 2)\n"
     ]
    }
   ],
   "source": [
    "def rotate_tuple_left(tup, n):\n",
    "    n = n % len(tup)\n",
    "    rotated_tup = tup[n:] + tup[:n]\n",
    "    return rotated_tup\n",
    "# test\n",
    "tup_eg = ( 1, 2, 3, 4, 5)\n",
    "num_pos = 2\n",
    "result = rotate_tuple_left(tup_eg, num_pos)\n",
    "\n",
    "print( \"The rotated tuple is :\",result)"
   ]
  },
  {
   "cell_type": "markdown",
   "id": "5285c584",
   "metadata": {},
   "source": [
    "40. Rotate a tuple to the right by n positions."
   ]
  },
  {
   "cell_type": "code",
   "execution_count": 19,
   "id": "9c7aa589",
   "metadata": {},
   "outputs": [
    {
     "name": "stdout",
     "output_type": "stream",
     "text": [
      "The rotated tuple is : (4, 5, 1, 2, 3)\n"
     ]
    }
   ],
   "source": [
    "def rotate_tuple_ryt(tup, n):\n",
    "    n = n % len(tup)\n",
    "    rotated_tup = tup[-n:] + tup[:-n]\n",
    "    return rotated_tup\n",
    "# test\n",
    "tup_eg = ( 1, 2, 3, 4, 5)\n",
    "num_pos = 2\n",
    "result = rotate_tuple_ryt(tup_eg, num_pos)\n",
    "\n",
    "print( \"The rotated tuple is :\",result)"
   ]
  },
  {
   "cell_type": "markdown",
   "id": "aac97a89",
   "metadata": {},
   "source": [
    "41. Create a tuple of the first 5 Fibonacci numbers."
   ]
  },
  {
   "cell_type": "code",
   "execution_count": 2,
   "id": "a587a61f",
   "metadata": {},
   "outputs": [
    {
     "name": "stdout",
     "output_type": "stream",
     "text": [
      "(0, 1, 1, 2, 3)\n"
     ]
    }
   ],
   "source": [
    "def fibonacci_series(n):\n",
    "    fibonacci = [0,1]\n",
    "    while len(fibonacci) < n:\n",
    "        next_num = fibonacci[-1] + fibonacci[-2]\n",
    "        fibonacci.append(next_num)\n",
    "    return tuple(fibonacci)\n",
    "\n",
    "#test\n",
    "tuple_fibonacci = fibonacci_series(5)\n",
    "print(tuple_fibonacci)"
   ]
  },
  {
   "cell_type": "code",
   "execution_count": null,
   "id": "73ebde2e",
   "metadata": {},
   "outputs": [],
   "source": [
    "42. Create a tuple from user input."
   ]
  },
  {
   "cell_type": "code",
   "execution_count": 3,
   "id": "5d42f6dc",
   "metadata": {},
   "outputs": [
    {
     "name": "stdout",
     "output_type": "stream",
     "text": [
      "enter elements separated by comma: h,e,l,l,o, ,w,o,r,l,d\n",
      "The entered tuple is : ('h', 'e', 'l', 'l', 'o', ' ', 'w', 'o', 'r', 'l', 'd')\n"
     ]
    }
   ],
   "source": [
    "user_input = input(\"Enter elements separated by comma: \")\n",
    "input_list = user_input.split(',')\n",
    "user_tuple = tuple(input_list)\n",
    "\n",
    "print(\"The entered tuple is :\",user_tuple)"
   ]
  },
  {
   "cell_type": "code",
   "execution_count": null,
   "id": "c0379af0",
   "metadata": {},
   "outputs": [],
   "source": [
    "43. Swap two elements in a tuple."
   ]
  },
  {
   "cell_type": "code",
   "execution_count": 6,
   "id": "3b33af5b",
   "metadata": {},
   "outputs": [
    {
     "name": "stdout",
     "output_type": "stream",
     "text": [
      "Swapped tuple: (0, 3, 2, 1, 4, 5)\n"
     ]
    }
   ],
   "source": [
    "my_tuple = (0,1,2,3,4,5)\n",
    "index1 = 1\n",
    "index2 = 3\n",
    "swap_tuple = tuple(\n",
    "    my_tuple[i] if i not in (index1 , index2) else\n",
    "    my_tuple[index2] if i == index1 else\n",
    "    my_tuple[index1]\n",
    "    for i in range(len(my_tuple))\n",
    ")\n",
    "print(\"Swapped tuple:\", swap_tuple)"
   ]
  },
  {
   "cell_type": "code",
   "execution_count": null,
   "id": "48e67ba8",
   "metadata": {},
   "outputs": [],
   "source": [
    "44. Reverse the elements of a tuple."
   ]
  },
  {
   "cell_type": "code",
   "execution_count": 7,
   "id": "6cdcfa53",
   "metadata": {},
   "outputs": [
    {
     "name": "stdout",
     "output_type": "stream",
     "text": [
      "The reversed tuple is:  (5, 4, 3, 2, 1)\n"
     ]
    }
   ],
   "source": [
    "my_tuple = (1,2,3,4,5)\n",
    "rev_tuple = my_tuple [::-1]\n",
    "print(\"The reversed tuple is: \",rev_tuple)"
   ]
  },
  {
   "cell_type": "code",
   "execution_count": null,
   "id": "64c73fa7",
   "metadata": {},
   "outputs": [],
   "source": [
    "45. Create a tuple of the first n powers of 2."
   ]
  },
  {
   "cell_type": "code",
   "execution_count": 9,
   "id": "32a420d6",
   "metadata": {},
   "outputs": [
    {
     "name": "stdout",
     "output_type": "stream",
     "text": [
      "Tuple of the first 10 powers of 2: (1, 2, 4, 8, 16, 32, 64, 128, 256, 512)\n"
     ]
    }
   ],
   "source": [
    "n = 10\n",
    "power_tuple_of_2 = tuple( 2 ** i for i in range(n))\n",
    "\n",
    "print(\"Tuple of the first\", n, \"powers of 2:\", power_tuple_of_2)"
   ]
  },
  {
   "cell_type": "code",
   "execution_count": null,
   "id": "98e5ce04",
   "metadata": {},
   "outputs": [],
   "source": [
    "46. Find the longest string in a tuple of strings."
   ]
  },
  {
   "cell_type": "code",
   "execution_count": 10,
   "id": "0b509af1",
   "metadata": {},
   "outputs": [
    {
     "name": "stdout",
     "output_type": "stream",
     "text": [
      "Longest string: python_class\n"
     ]
    }
   ],
   "source": [
    "tuple_str = (\"hello\", \"world\", \"welcome\", \"to\", \"python_class\")\n",
    "\n",
    "longest_string = max(tuple_str, key=len)\n",
    "\n",
    "print(\"Longest string:\", longest_string)"
   ]
  },
  {
   "cell_type": "code",
   "execution_count": null,
   "id": "28a79c37",
   "metadata": {},
   "outputs": [],
   "source": [
    "47. Find the shortest string in a tuple of strings."
   ]
  },
  {
   "cell_type": "code",
   "execution_count": 12,
   "id": "2fe5fa0e",
   "metadata": {},
   "outputs": [
    {
     "name": "stdout",
     "output_type": "stream",
     "text": [
      "Shortest string: to\n"
     ]
    }
   ],
   "source": [
    "tuple_str = (\"hello\", \"world\", \"welcome\", \"to\", \"python_class\")\n",
    "\n",
    "shortest_string = min(tuple_str, key=len)\n",
    "\n",
    "print(\"Shortest string:\", shortest_string)"
   ]
  },
  {
   "cell_type": "code",
   "execution_count": null,
   "id": "1876d595",
   "metadata": {},
   "outputs": [],
   "source": [
    "48. Create a tuple of the first n triangular numbers."
   ]
  },
  {
   "cell_type": "code",
   "execution_count": 13,
   "id": "6131d018",
   "metadata": {},
   "outputs": [
    {
     "name": "stdout",
     "output_type": "stream",
     "text": [
      "Tuple of the first 5 triangular numbers: (1, 3, 6, 10, 15)\n"
     ]
    }
   ],
   "source": [
    "n = 5\n",
    "triangular_num_tuple = tuple((i * (i + 1)) // 2 for i in range(1, n + 1))\n",
    "\n",
    "print(\"Tuple of the first\", n, \"triangular numbers:\", triangular_num_tuple)"
   ]
  },
  {
   "cell_type": "code",
   "execution_count": null,
   "id": "f5a42b2e",
   "metadata": {},
   "outputs": [],
   "source": [
    "49. Check if a tuple contains another tuple as a subsequence."
   ]
  },
  {
   "cell_type": "code",
   "execution_count": 14,
   "id": "02bd0817",
   "metadata": {},
   "outputs": [
    {
     "name": "stdout",
     "output_type": "stream",
     "text": [
      "Main tuple contains subsequence tuple: True\n"
     ]
    }
   ],
   "source": [
    "def contains_subsequence(main_tuple, sub_tuple):\n",
    "    sub_length = len(sub_tuple)\n",
    "    for i in range(len(main_tuple) - sub_length + 1):\n",
    "        if main_tuple[i:i+sub_length] == sub_tuple:\n",
    "            return True\n",
    "    return False\n",
    "#test\n",
    "main_tuple = (1, 2, 3, 4, 5, 6, 7, 8, 9)\n",
    "\n",
    "# Subsequent tuple\n",
    "sub_tuple = (3, 4, 5)\n",
    "contains_subseq = contains_subsequence(main_tuple, sub_tuple)\n",
    "\n",
    "print(\"Main tuple contains subsequence tuple:\", contains_subseq)"
   ]
  },
  {
   "cell_type": "code",
   "execution_count": null,
   "id": "876d8175",
   "metadata": {},
   "outputs": [],
   "source": [
    "50. Create a tuple of alternating 1s and 0s of length n."
   ]
  },
  {
   "cell_type": "code",
   "execution_count": 15,
   "id": "ffd35147",
   "metadata": {},
   "outputs": [
    {
     "name": "stdout",
     "output_type": "stream",
     "text": [
      "Tuple of alternating 1s and 0s: (0, 1, 0, 1, 0, 1, 0, 1, 0, 1)\n"
     ]
    }
   ],
   "source": [
    "n = 10\n",
    "alternating_tuple = tuple(i % 2 for i in range(n))\n",
    "\n",
    "print(\"Tuple of alternating 1s and 0s:\", alternating_tuple)"
   ]
  },
  {
   "cell_type": "code",
   "execution_count": null,
   "id": "be7a5936",
   "metadata": {},
   "outputs": [],
   "source": []
  },
  {
   "cell_type": "markdown",
   "id": "b674a322",
   "metadata": {},
   "source": [
    "# SET Questions"
   ]
  },
  {
   "cell_type": "markdown",
   "id": "f7d38f87",
   "metadata": {},
   "source": [
    "1. Create a set with integers from 1 to 5"
   ]
  },
  {
   "cell_type": "code",
   "execution_count": 2,
   "id": "bce6e291",
   "metadata": {},
   "outputs": [
    {
     "name": "stdout",
     "output_type": "stream",
     "text": [
      "Set of integers :  {1, 2, 3, 4, 5}\n"
     ]
    }
   ],
   "source": [
    "my_set = {1,2,3,4,5}\n",
    "\n",
    "print(\"Set of integers : \",my_set )"
   ]
  },
  {
   "cell_type": "markdown",
   "id": "5ca92426",
   "metadata": {},
   "source": [
    "2. Add an element to a set"
   ]
  },
  {
   "cell_type": "code",
   "execution_count": 5,
   "id": "12167213",
   "metadata": {},
   "outputs": [
    {
     "name": "stdout",
     "output_type": "stream",
     "text": [
      "Original set : {1, 2, 3, 4, 5}\n",
      "New set : {0, 1, 2, 3, 4, 5}\n"
     ]
    }
   ],
   "source": [
    "my_set = {1,2,3,4,5}\n",
    "\n",
    "print(\"Original set :\",my_set)\n",
    "\n",
    "add_element = 0\n",
    "my_set.add(add_element)\n",
    "\n",
    "print(\"New set :\",my_set)"
   ]
  },
  {
   "cell_type": "markdown",
   "id": "68f57af6",
   "metadata": {},
   "source": [
    "3. Remove an element from a set."
   ]
  },
  {
   "cell_type": "code",
   "execution_count": 6,
   "id": "2e505f88",
   "metadata": {},
   "outputs": [
    {
     "name": "stdout",
     "output_type": "stream",
     "text": [
      "Original set : {1, 2, 3, 4, 5}\n",
      "Updated set : {1, 2, 3, 4}\n"
     ]
    }
   ],
   "source": [
    "my_set = {1,2,3,4,5}\n",
    "\n",
    "print(\"Original set :\",my_set)\n",
    "\n",
    "remove_element = 5\n",
    "my_set.remove(remove_element)\n",
    "\n",
    "print(\"Updated set :\",my_set)"
   ]
  },
  {
   "cell_type": "markdown",
   "id": "c8344ad2",
   "metadata": {},
   "source": [
    "4. Check if an element exists in a set."
   ]
  },
  {
   "cell_type": "code",
   "execution_count": 8,
   "id": "4caf7581",
   "metadata": {},
   "outputs": [
    {
     "name": "stdout",
     "output_type": "stream",
     "text": [
      "Enter element to check3\n",
      "3 exists in My set\n"
     ]
    }
   ],
   "source": [
    "my_set = { 1, 2, 3, 4, 5 }\n",
    "check_element = int(input(\"Enter element to check\"))\n",
    "\n",
    "if check_element in my_set:\n",
    "    print(f\"{check_element} exists in My set\")\n",
    "else:\n",
    "    print(f\"{check_element} does no exist in my set\")"
   ]
  },
  {
   "cell_type": "markdown",
   "id": "ff1d1eec",
   "metadata": {},
   "source": [
    "5. Find the length of a set without using the len() function"
   ]
  },
  {
   "cell_type": "code",
   "execution_count": 9,
   "id": "7ffc0e92",
   "metadata": {},
   "outputs": [
    {
     "name": "stdout",
     "output_type": "stream",
     "text": [
      "Length of set is : 5\n"
     ]
    }
   ],
   "source": [
    "my_set = { 1, 2, 3, 4, 5 }\n",
    "count = 0\n",
    "\n",
    "for i in my_set:\n",
    "    count += 1\n",
    "print(\"Length of set is :\",count)"
   ]
  },
  {
   "cell_type": "markdown",
   "id": "49bfadfa",
   "metadata": {},
   "source": [
    "6. Clear all elements from a set."
   ]
  },
  {
   "cell_type": "code",
   "execution_count": 10,
   "id": "423ef0dc",
   "metadata": {},
   "outputs": [
    {
     "name": "stdout",
     "output_type": "stream",
     "text": [
      "Original set :  {1, 2, 3, 4, 5}\n",
      "Cleared set :  set()\n"
     ]
    }
   ],
   "source": [
    "my_set = { 1, 2, 3, 4, 5 }\n",
    "print(\"Original set : \",my_set)\n",
    "\n",
    "my_set.clear()\n",
    "\n",
    "print(\"Cleared set : \",my_set)"
   ]
  },
  {
   "cell_type": "markdown",
   "id": "bf78fe95",
   "metadata": {},
   "source": [
    "7. Create a set of even numbers from 1 to 10"
   ]
  },
  {
   "cell_type": "code",
   "execution_count": 11,
   "id": "45081bf8",
   "metadata": {},
   "outputs": [
    {
     "name": "stdout",
     "output_type": "stream",
     "text": [
      "Set of even numbers : {2, 4, 6, 8, 10}\n"
     ]
    }
   ],
   "source": [
    "Even_numbers = set()\n",
    "for i in range(1,11):\n",
    "    if i % 2 == 0:\n",
    "        Even_numbers.add(i)\n",
    "print(\"Set of even numbers :\",Even_numbers)\n",
    "    "
   ]
  },
  {
   "cell_type": "markdown",
   "id": "80ed3d10",
   "metadata": {},
   "source": [
    "8. Create a set of odd numbers from 1 to 10"
   ]
  },
  {
   "cell_type": "code",
   "execution_count": 12,
   "id": "047216a9",
   "metadata": {},
   "outputs": [
    {
     "name": "stdout",
     "output_type": "stream",
     "text": [
      "Set of Odd numbers : {1, 3, 5, 7, 9}\n"
     ]
    }
   ],
   "source": [
    "odd_numbers = set()\n",
    "for i in range(1,11):\n",
    "    if i % 2 != 0:\n",
    "        odd_numbers.add(i)\n",
    "print(\"Set of Odd numbers :\",odd_numbers)"
   ]
  },
  {
   "cell_type": "markdown",
   "id": "d4360065",
   "metadata": {},
   "source": [
    "9. Find the union of two sets"
   ]
  },
  {
   "cell_type": "code",
   "execution_count": 13,
   "id": "f955dbff",
   "metadata": {},
   "outputs": [
    {
     "name": "stdout",
     "output_type": "stream",
     "text": [
      "Set 1 : {1, 2, 3, 4, 5}\n",
      "Set 2 : {4, 5, 6, 7, 8, 9}\n",
      "Union set : {1, 2, 3, 4, 5, 6, 7, 8, 9}\n"
     ]
    }
   ],
   "source": [
    "set1 = {1, 2, 3, 4, 5}\n",
    "set2 = {4, 5, 6, 7, 8, 9}\n",
    "\n",
    "union = set1.union(set2)\n",
    "\n",
    "print(\"Set 1 :\",set1)\n",
    "print(\"Set 2 :\",set2)\n",
    "\n",
    "print(\"Union set :\",union)"
   ]
  },
  {
   "cell_type": "markdown",
   "id": "16678a26",
   "metadata": {},
   "source": [
    "10. Find the intersection of two sets"
   ]
  },
  {
   "cell_type": "code",
   "execution_count": 14,
   "id": "23c75574",
   "metadata": {},
   "outputs": [
    {
     "name": "stdout",
     "output_type": "stream",
     "text": [
      "Set 1 : {1, 2, 3, 4, 5}\n",
      "Set 2 : {4, 5, 6, 7, 8, 9}\n",
      "Intersection set : {4, 5}\n"
     ]
    }
   ],
   "source": [
    "set1 = {1, 2, 3, 4, 5}\n",
    "set2 = {4, 5, 6, 7, 8, 9}\n",
    "\n",
    "intersection = set1.intersection(set2)\n",
    "\n",
    "print(\"Set 1 :\",set1)\n",
    "print(\"Set 2 :\",set2)\n",
    "\n",
    "print(\"Intersection set :\",intersection)"
   ]
  },
  {
   "cell_type": "markdown",
   "id": "e6f3b292",
   "metadata": {},
   "source": [
    "11. Find the difference between two sets."
   ]
  },
  {
   "cell_type": "code",
   "execution_count": 15,
   "id": "8f588e41",
   "metadata": {},
   "outputs": [
    {
     "name": "stdout",
     "output_type": "stream",
     "text": [
      "Set 1 : {1, 2, 3, 4, 5}\n",
      "Set 2 : {4, 5, 6, 7, 8, 9}\n",
      "Difference set : {1, 2, 3}\n"
     ]
    }
   ],
   "source": [
    "set1 = {1, 2, 3, 4, 5}\n",
    "set2 = {4, 5, 6, 7, 8, 9}\n",
    "\n",
    "difference = set1.difference(set2)\n",
    "\n",
    "print(\"Set 1 :\",set1)\n",
    "print(\"Set 2 :\",set2)\n",
    "\n",
    "print(\"Difference set :\",difference)"
   ]
  },
  {
   "cell_type": "markdown",
   "id": "7a2b0fc4",
   "metadata": {},
   "source": [
    "12. Check if a set is a subset of another set."
   ]
  },
  {
   "cell_type": "code",
   "execution_count": 16,
   "id": "1d720e36",
   "metadata": {},
   "outputs": [
    {
     "name": "stdout",
     "output_type": "stream",
     "text": [
      "Is set1 subset of set2 : True\n"
     ]
    }
   ],
   "source": [
    "set1 = {4, 5, 6}\n",
    "set2 = {4, 5, 6, 7, 8, 9}\n",
    "\n",
    "sub_set = set1.issubset(set2)\n",
    "\n",
    "print(\"Is set1 subset of set2 :\",sub_set)"
   ]
  },
  {
   "cell_type": "markdown",
   "id": "8b9d81b0",
   "metadata": {},
   "source": [
    "13. Check if a set is a superset of another set."
   ]
  },
  {
   "cell_type": "code",
   "execution_count": 18,
   "id": "b11bf445",
   "metadata": {},
   "outputs": [
    {
     "name": "stdout",
     "output_type": "stream",
     "text": [
      "Set1 is Superset of Set2\n"
     ]
    }
   ],
   "source": [
    "set1 = {1, 2, 3, 4, 5, 6}\n",
    "set2 = {4, 5, 6}\n",
    "\n",
    "check_super_set = set1.issuperset(set2)\n",
    "\n",
    "if check_super_set:\n",
    "    print(\"Set1 is Superset of Set2\")\n",
    "else:\n",
    "    print(\"Set1 is not Superset of Set2\")"
   ]
  },
  {
   "cell_type": "markdown",
   "id": "7eb1d991",
   "metadata": {},
   "source": [
    "14. Create a set from a list"
   ]
  },
  {
   "cell_type": "code",
   "execution_count": 2,
   "id": "83e9c836",
   "metadata": {},
   "outputs": [
    {
     "name": "stdout",
     "output_type": "stream",
     "text": [
      "List of objects : (1, 2, 3, 4, 5, 6)\n",
      "Set of objects of List : {1, 2, 3, 4, 5, 6}\n"
     ]
    }
   ],
   "source": [
    "my_list = (1,2,3,4,5,6)\n",
    "my_set = set(my_list)\n",
    "\n",
    "print(\"List of objects :\",my_list)\n",
    "print(\"Set of objects of List :\",my_set)"
   ]
  },
  {
   "cell_type": "markdown",
   "id": "a25fee93",
   "metadata": {},
   "source": [
    "15. Convert a set to a list."
   ]
  },
  {
   "cell_type": "code",
   "execution_count": 3,
   "id": "1b623963",
   "metadata": {},
   "outputs": [
    {
     "name": "stdout",
     "output_type": "stream",
     "text": [
      "Original Set : {1, 2, 3, 4, 5}\n",
      "List of Objects of Set : [1, 2, 3, 4, 5]\n"
     ]
    }
   ],
   "source": [
    "my_set = {1, 2, 3, 4, 5}\n",
    "my_list = list(my_set)\n",
    "\n",
    "print(\"Original Set :\",my_set)\n",
    "print(\"List of Objects of Set :\",my_list)"
   ]
  },
  {
   "cell_type": "markdown",
   "id": "a33c5ec7",
   "metadata": {},
   "source": [
    "16. Remove a random element from a set."
   ]
  },
  {
   "cell_type": "code",
   "execution_count": 6,
   "id": "a03cd7f6",
   "metadata": {},
   "outputs": [
    {
     "name": "stdout",
     "output_type": "stream",
     "text": [
      "Original Set : {1, 2, 3, 4, 5}\n",
      "Updated Set after removing : 5 : {1, 2, 3, 4}\n"
     ]
    }
   ],
   "source": [
    "import random\n",
    "my_set = {1, 2, 3, 4, 5}\n",
    "print(\"Original Set :\",my_set)\n",
    "\n",
    "random_element = random.choice(list(my_set))\n",
    "my_set.remove(random_element)\n",
    "\n",
    "print(\"Updated Set after removing :\",random_element, \":\", my_set)"
   ]
  },
  {
   "cell_type": "markdown",
   "id": "0d8150c2",
   "metadata": {},
   "source": [
    "17. Pop an element from a set."
   ]
  },
  {
   "cell_type": "code",
   "execution_count": 7,
   "id": "5b6d0809",
   "metadata": {},
   "outputs": [
    {
     "name": "stdout",
     "output_type": "stream",
     "text": [
      "Original set: {1, 2, 3, 4, 5, 6}\n",
      "Popped element: 1\n",
      "Set after popping: {2, 3, 4, 5, 6}\n"
     ]
    }
   ],
   "source": [
    "my_set = {1, 2, 3, 4, 5, 6}\n",
    "print(\"Original set:\", my_set)\n",
    "\n",
    "popped_element = my_set.pop()\n",
    "print(\"Popped element:\", popped_element)\n",
    "\n",
    "print(\"Set after popping:\", my_set)"
   ]
  },
  {
   "cell_type": "markdown",
   "id": "f12934d3",
   "metadata": {},
   "source": [
    "18. Check if two sets have no elements in common."
   ]
  },
  {
   "cell_type": "code",
   "execution_count": 10,
   "id": "addb99e5",
   "metadata": {},
   "outputs": [
    {
     "name": "stdout",
     "output_type": "stream",
     "text": [
      "The sets have Common Elements : {2, 4, 6}\n"
     ]
    }
   ],
   "source": [
    "set1 = {1, 2, 3, 4, 5, 6}\n",
    "set2 = {0, 2, 4, 6, 8, 10}\n",
    "\n",
    "common_elements = set1.intersection(set2)\n",
    "\n",
    "if not common_elements:\n",
    "    print(\"The sets have no Common Elements\")\n",
    "else:\n",
    "    print(\"The sets have Common Elements :\", common_elements)"
   ]
  },
  {
   "cell_type": "markdown",
   "id": "92b18a3e",
   "metadata": {},
   "source": [
    "19. Find the symmetric difference between two sets."
   ]
  },
  {
   "cell_type": "code",
   "execution_count": 11,
   "id": "63b7898e",
   "metadata": {},
   "outputs": [
    {
     "name": "stdout",
     "output_type": "stream",
     "text": [
      "The symmetric difference in 2 sets is : {1, 3, 5}\n"
     ]
    }
   ],
   "source": [
    "set1 = {1, 2, 3, 4, 5, 6}\n",
    "set2 = {2, 4, 6}\n",
    "\n",
    "symmetric_difference = set1 ^ set2\n",
    "\n",
    "print(\"The symmetric difference in 2 sets is :\",symmetric_difference)"
   ]
  },
  {
   "cell_type": "markdown",
   "id": "8b71a395",
   "metadata": {},
   "source": [
    "20. Update a set with elements from another set."
   ]
  },
  {
   "cell_type": "code",
   "execution_count": 14,
   "id": "63c4684a",
   "metadata": {},
   "outputs": [
    {
     "name": "stdout",
     "output_type": "stream",
     "text": [
      "Set 1 : {1, 3, 5}\n",
      "Set 2 : {2, 4, 6}\n",
      "Updated Set 1 : {1, 2, 3, 4, 5, 6}\n"
     ]
    }
   ],
   "source": [
    "set1 = {1, 3, 5}\n",
    "print(\"Set 1 :\",set1)\n",
    "\n",
    "set2 = {2, 4, 6}\n",
    "print(\"Set 2 :\",set2)\n",
    "\n",
    "updated_set = set1.update(set2)\n",
    "\n",
    "print(\"Updated Set 1 :\",set1)"
   ]
  },
  {
   "cell_type": "markdown",
   "id": "7275a1f2",
   "metadata": {},
   "source": [
    "21. Create a set of the first 5 prime numbers."
   ]
  },
  {
   "cell_type": "code",
   "execution_count": 15,
   "id": "1ba4d457",
   "metadata": {},
   "outputs": [
    {
     "name": "stdout",
     "output_type": "stream",
     "text": [
      "Set of the first 5 prime numbers: {2, 3, 5, 7, 11}\n"
     ]
    }
   ],
   "source": [
    "def is_prime(num):\n",
    "    if num <= 1:\n",
    "        return False\n",
    "    for i in range(2, int(num ** 0.5) + 1):\n",
    "        if num % i == 0:\n",
    "            return False\n",
    "    return True\n",
    "prime_set = set()\n",
    "num = 2\n",
    "while len(prime_set) < 5:\n",
    "    if is_prime(num):\n",
    "        prime_set.add(num)\n",
    "    num += 1\n",
    "\n",
    "print(\"Set of the first 5 prime numbers:\", prime_set)"
   ]
  },
  {
   "cell_type": "markdown",
   "id": "2b9a0e61",
   "metadata": {},
   "source": [
    "22. Check if two sets are identical."
   ]
  },
  {
   "cell_type": "code",
   "execution_count": 1,
   "id": "72966001",
   "metadata": {},
   "outputs": [
    {
     "name": "stdout",
     "output_type": "stream",
     "text": [
      "The two sets are identical\n"
     ]
    }
   ],
   "source": [
    "set_1 = {1, 2, 3, 4, 5}\n",
    "set_2 = {3, 1, 5, 2, 4}\n",
    "\n",
    "if set_1 == set_2:\n",
    "    print(\"The two sets are identical\")\n",
    "else:\n",
    "    print(\"The two sets are not identical\")"
   ]
  },
  {
   "cell_type": "markdown",
   "id": "50477164",
   "metadata": {},
   "source": [
    "23. Create a frozen set"
   ]
  },
  {
   "cell_type": "code",
   "execution_count": 4,
   "id": "df3bc28d",
   "metadata": {},
   "outputs": [
    {
     "name": "stdout",
     "output_type": "stream",
     "text": [
      "The frozen set is : frozenset({1, 2, 3, 4, 5})\n"
     ]
    }
   ],
   "source": [
    "elements = [1, 2, 3, 4, 5]\n",
    "\n",
    "frozen_set = frozenset(elements)\n",
    "\n",
    "print(\"The frozen set is :\",frozen_set)"
   ]
  },
  {
   "cell_type": "markdown",
   "id": "9d5c0ace",
   "metadata": {},
   "source": [
    "24. Check if a set is disjoint with another set."
   ]
  },
  {
   "cell_type": "code",
   "execution_count": 5,
   "id": "8f38e340",
   "metadata": {},
   "outputs": [
    {
     "name": "stdout",
     "output_type": "stream",
     "text": [
      "Is Set 1 disjoint of Set 2 ? True\n"
     ]
    }
   ],
   "source": [
    "set1 = {1, 2, 3 }\n",
    "set2 = {4, 5, 6 }\n",
    "\n",
    "disjoint_check = set1.isdisjoint(set2)\n",
    "\n",
    "print(\"Is Set 1 disjoint of Set 2 ?\", disjoint_check)"
   ]
  },
  {
   "cell_type": "markdown",
   "id": "296ffd2e",
   "metadata": {},
   "source": [
    "25. Create a set of squares of numbers from 1 to 5."
   ]
  },
  {
   "cell_type": "code",
   "execution_count": 6,
   "id": "144a06b3",
   "metadata": {},
   "outputs": [
    {
     "name": "stdout",
     "output_type": "stream",
     "text": [
      "The set of squares is : {1, 4, 9, 16, 25}\n"
     ]
    }
   ],
   "source": [
    "squares_set = set()\n",
    "for i in range(1,6):\n",
    "    square = i ** 2\n",
    "    squares_set.add(square)\n",
    "print(\"The set of squares is :\",squares_set)"
   ]
  },
  {
   "cell_type": "markdown",
   "id": "6893e332",
   "metadata": {},
   "source": [
    "26. Filter out all even numbers from a set."
   ]
  },
  {
   "cell_type": "code",
   "execution_count": 10,
   "id": "1aed4f25",
   "metadata": {},
   "outputs": [
    {
     "name": "stdout",
     "output_type": "stream",
     "text": [
      "Original Set : {1, 2, 3, 4, 5, 6}\n",
      "Set of Even Numbers : {2, 4, 6}\n"
     ]
    }
   ],
   "source": [
    "my_set = {1, 2, 3, 4, 5, 6}\n",
    "even_set = set()\n",
    "for i in my_set:\n",
    "    if i % 2 == 0:\n",
    "        even_set.add(i)\n",
    "\n",
    "print(\"Original Set :\",my_set)\n",
    "print(\"Set of Even Numbers :\",even_set)"
   ]
  },
  {
   "cell_type": "markdown",
   "id": "23d0c26f",
   "metadata": {},
   "source": [
    "27. Multiply all elements in a set by 2."
   ]
  },
  {
   "cell_type": "code",
   "execution_count": 2,
   "id": "401dde34",
   "metadata": {},
   "outputs": [
    {
     "name": "stdout",
     "output_type": "stream",
     "text": [
      "Original set : {2, 4, 6}\n",
      "Set Multiplied by Two : {8, 4, 12}\n"
     ]
    }
   ],
   "source": [
    "original_set = { 2, 4, 6 }\n",
    "\n",
    "final_set = set()\n",
    "for i in original_set:\n",
    "    multiplied_num = i * 2\n",
    "    final_set.add(multiplied_num)\n",
    "print(\"Original set :\",original_set)\n",
    "print(\"Set Multiplied by Two :\",final_set)"
   ]
  },
  {
   "cell_type": "markdown",
   "id": "23df2005",
   "metadata": {},
   "source": [
    "28. Create a set of random numbers."
   ]
  },
  {
   "cell_type": "code",
   "execution_count": 4,
   "id": "46c968da",
   "metadata": {},
   "outputs": [
    {
     "name": "stdout",
     "output_type": "stream",
     "text": [
      "Set of random numbers : {3, 40, 77, 21, 55}\n"
     ]
    }
   ],
   "source": [
    "import random\n",
    "random_num = 5\n",
    "random_num_set = set()\n",
    "\n",
    "for i in range(random_num):\n",
    "    random_number = random.randint(1,100)\n",
    "    random_num_set.add(random_number)\n",
    "print(\"Set of random numbers :\",random_num_set)\n",
    "    "
   ]
  },
  {
   "cell_type": "markdown",
   "id": "d8db0411",
   "metadata": {},
   "source": [
    "29. Check if a set is empty."
   ]
  },
  {
   "cell_type": "code",
   "execution_count": 5,
   "id": "e97aafaa",
   "metadata": {},
   "outputs": [
    {
     "name": "stdout",
     "output_type": "stream",
     "text": [
      "The set is empty\n"
     ]
    }
   ],
   "source": [
    "my_set = set()\n",
    "\n",
    "if not my_set:\n",
    "    print(\"The set is empty\")\n",
    "else:\n",
    "    print(\"The set is not empty\")"
   ]
  },
  {
   "cell_type": "markdown",
   "id": "b6c44029",
   "metadata": {},
   "source": [
    "30. Create a nested set (hint: use frozenset)."
   ]
  },
  {
   "cell_type": "code",
   "execution_count": 6,
   "id": "0d658d86",
   "metadata": {},
   "outputs": [
    {
     "name": "stdout",
     "output_type": "stream",
     "text": [
      "Nested Set : {frozenset({1, 2, 3}), frozenset({5, 6, 7})}\n"
     ]
    }
   ],
   "source": [
    "set1 = {1, 2, 3 }\n",
    "set2 = {5, 6, 7 }\n",
    "\n",
    "frozen_set1 = frozenset(set1)\n",
    "frozen_set2 = frozenset(set2)\n",
    "\n",
    "nested_set = {frozen_set1,frozen_set2}\n",
    "\n",
    "print(\"Nested Set :\",nested_set)"
   ]
  },
  {
   "cell_type": "markdown",
   "id": "d178263f",
   "metadata": {},
   "source": [
    "31. Remove an element from a set using the discard method."
   ]
  },
  {
   "cell_type": "code",
   "execution_count": 7,
   "id": "9ff8ac8d",
   "metadata": {},
   "outputs": [
    {
     "name": "stdout",
     "output_type": "stream",
     "text": [
      "Initial Set : {1, 2, 3, 4, 5}\n",
      "Set after removing 4 : {1, 2, 3, 5}\n"
     ]
    }
   ],
   "source": [
    "my_set = {1, 2, 3, 4, 5 }\n",
    "print(\"Initial Set :\",my_set)\n",
    "\n",
    "element_to_remove = 4\n",
    "my_set.discard(element_to_remove)\n",
    "\n",
    "print(\"Set after removing\", element_to_remove, \":\",my_set)"
   ]
  },
  {
   "cell_type": "markdown",
   "id": "57097a42",
   "metadata": {},
   "source": [
    "32. Compare two sets."
   ]
  },
  {
   "cell_type": "code",
   "execution_count": 8,
   "id": "6f18fe74",
   "metadata": {},
   "outputs": [
    {
     "name": "stdout",
     "output_type": "stream",
     "text": [
      "Set 1: {1, 2, 3, 4, 5}\n",
      "Set 2: {2, 4, 6, 8, 10}\n",
      "Is set1 a subset of set2? False\n",
      "Is set2 a subset of set1? False\n",
      "Intersection: {2, 4}\n",
      "Union: {1, 2, 3, 4, 5, 6, 8, 10}\n",
      "Elements in set1 but not in set2: {1, 3, 5}\n",
      "Elements in set2 but not in set1: {8, 10, 6}\n"
     ]
    }
   ],
   "source": [
    "set1 = {1, 2, 3, 4, 5}\n",
    "set2 = {2, 4, 6, 8, 10}\n",
    "\n",
    "is_subset = set1.issubset(set2)\n",
    "\n",
    "is_superset = set1.issuperset(set2)\n",
    "\n",
    "intersection = set1.intersection(set2)\n",
    "\n",
    "union = set1.union(set2)\n",
    "\n",
    "difference1 = set1.difference(set2)\n",
    "\n",
    "difference2 = set2.difference(set1)\n",
    "\n",
    "print(\"Set 1:\", set1)\n",
    "print(\"Set 2:\", set2)\n",
    "print(\"Is set1 a subset of set2?\", is_subset)\n",
    "print(\"Is set2 a subset of set1?\", is_superset)\n",
    "print(\"Intersection:\", intersection)\n",
    "print(\"Union:\", union)\n",
    "print(\"Elements in set1 but not in set2:\", difference1)\n",
    "print(\"Elements in set2 but not in set1:\", difference2)"
   ]
  },
  {
   "cell_type": "markdown",
   "id": "a8744bd7",
   "metadata": {},
   "source": [
    "33. Create a set from a string."
   ]
  },
  {
   "cell_type": "code",
   "execution_count": 9,
   "id": "ffb87e42",
   "metadata": {},
   "outputs": [
    {
     "name": "stdout",
     "output_type": "stream",
     "text": [
      "Set from string : {'m', 'l', 'w', 'c', 'o', 'e'}\n"
     ]
    }
   ],
   "source": [
    "string = \"welcome\"\n",
    "set_of_string = set(string)\n",
    "\n",
    "print(\"Set from string :\",set_of_string)"
   ]
  },
  {
   "cell_type": "markdown",
   "id": "154da37e",
   "metadata": {},
   "source": [
    "34. Convert a set of strings to a set of integers."
   ]
  },
  {
   "cell_type": "code",
   "execution_count": 10,
   "id": "9c8e81df",
   "metadata": {},
   "outputs": [
    {
     "name": "stdout",
     "output_type": "stream",
     "text": [
      "Original String Set: {'554', '104', '232'}\n",
      "Converted Integer Set: {104, 232, 554}\n"
     ]
    }
   ],
   "source": [
    "string_set = {\"232\", \"554\", \"104\"}\n",
    "integer_set = set()\n",
    "\n",
    "for i in string_set:\n",
    "    integer_value = int(i)\n",
    "    integer_set.add(integer_value)\n",
    "\n",
    "print(\"Original String Set:\", string_set)\n",
    "print(\"Converted Integer Set:\", integer_set)"
   ]
  },
  {
   "cell_type": "markdown",
   "id": "690ffb15",
   "metadata": {},
   "source": [
    "35. Convert a set of integers to a set of strings."
   ]
  },
  {
   "cell_type": "code",
   "execution_count": 11,
   "id": "4c7deee7",
   "metadata": {},
   "outputs": [
    {
     "name": "stdout",
     "output_type": "stream",
     "text": [
      "Original integers_set: {1, 2, 3, 4, 5}\n",
      "Converted strings_set: {'4', '5', '3', '2', '1'}\n"
     ]
    }
   ],
   "source": [
    "integers_set = {1, 2, 3, 4, 5}\n",
    "strings_set = set()\n",
    "for num in integers_set:\n",
    "    num_string = str(num)\n",
    "    strings_set.add(num_string)\n",
    "print(\"Original integers_set:\", integers_set)\n",
    "print(\"Converted strings_set:\", strings_set)"
   ]
  },
  {
   "cell_type": "markdown",
   "id": "b5c94eef",
   "metadata": {},
   "source": [
    "36. Create a set from a tuple."
   ]
  },
  {
   "cell_type": "code",
   "execution_count": 12,
   "id": "56f2b813",
   "metadata": {},
   "outputs": [
    {
     "name": "stdout",
     "output_type": "stream",
     "text": [
      "Set from tuple : {1, 2, 3, 4, 5}\n"
     ]
    }
   ],
   "source": [
    "my_tuple = (1, 2, 3, 4, 5)\n",
    "set_from_tuple = set(my_tuple)\n",
    "\n",
    "print(\"Set from tuple :\",set_from_tuple)"
   ]
  },
  {
   "cell_type": "markdown",
   "id": "aee132f6",
   "metadata": {},
   "source": [
    "37. Convert a set to a tuple."
   ]
  },
  {
   "cell_type": "code",
   "execution_count": 14,
   "id": "3666fc58",
   "metadata": {},
   "outputs": [
    {
     "name": "stdout",
     "output_type": "stream",
     "text": [
      "Converted set into tuple : (1, 2, 3, 4, 5)\n"
     ]
    }
   ],
   "source": [
    "my_set = {1, 2, 3, 4, 5}\n",
    "tuple_from_set = tuple(my_set)\n",
    "\n",
    "print(\"Converted set into tuple :\",tuple_from_set)"
   ]
  },
  {
   "cell_type": "markdown",
   "id": "f8a9b9dd",
   "metadata": {},
   "source": [
    "38. Find the maximum value in a set."
   ]
  },
  {
   "cell_type": "code",
   "execution_count": 16,
   "id": "3380b565",
   "metadata": {},
   "outputs": [
    {
     "name": "stdout",
     "output_type": "stream",
     "text": [
      "Maximum value: 50\n"
     ]
    }
   ],
   "source": [
    "my_set = {1, 7, 50, 3, 18}\n",
    "max_value = None\n",
    "for i in my_set:\n",
    "    if max_value is None or i > max_value:\n",
    "        max_value = i\n",
    "print(\"Maximum value:\", max_value)"
   ]
  },
  {
   "cell_type": "markdown",
   "id": "a868b812",
   "metadata": {},
   "source": [
    "39. Find the minimum value in a set."
   ]
  },
  {
   "cell_type": "code",
   "execution_count": 17,
   "id": "607dc926",
   "metadata": {},
   "outputs": [
    {
     "name": "stdout",
     "output_type": "stream",
     "text": [
      "Minimum value: 3\n"
     ]
    }
   ],
   "source": [
    "my_set = {7, 50, 3, 18}\n",
    "min_value = None\n",
    "for i in my_set:\n",
    "    if min_value is None or i < min_value:\n",
    "        min_value = i\n",
    "print(\"Minimum value:\", min_value)"
   ]
  },
  {
   "cell_type": "markdown",
   "id": "fdb445c8",
   "metadata": {},
   "source": [
    "40. Create a set from user input."
   ]
  },
  {
   "cell_type": "code",
   "execution_count": 18,
   "id": "31a094bf",
   "metadata": {},
   "outputs": [
    {
     "name": "stdout",
     "output_type": "stream",
     "text": [
      "Enter elements for set (type 'done' to finish):\n",
      "> hy\n",
      "> next\n",
      "> set\n",
      "> cool\n",
      "> DONE\n",
      "Final set: {'next', 'cool', 'hy', 'set'}\n"
     ]
    }
   ],
   "source": [
    "user_set = set()\n",
    "print(\"Enter elements for set (type 'done' to finish):\")\n",
    "while True:\n",
    "    user_input = input(\"> \")\n",
    "    if user_input.lower() == 'done':\n",
    "        break\n",
    "    user_set.add(user_input)\n",
    "\n",
    "print(\"Final set:\", user_set)"
   ]
  },
  {
   "cell_type": "markdown",
   "id": "a9a32b3a",
   "metadata": {},
   "source": [
    "41. Check if the intersection of two sets is empty."
   ]
  },
  {
   "cell_type": "code",
   "execution_count": 3,
   "id": "291dfa3c",
   "metadata": {},
   "outputs": [
    {
     "name": "stdout",
     "output_type": "stream",
     "text": [
      "The intersection of  sets is empty\n"
     ]
    }
   ],
   "source": [
    "set1 = {1, 3, 5 }\n",
    "set2 = {2, 4, 6, 8, 10 }\n",
    "intersect = set1.intersection(set2)\n",
    "\n",
    "if not intersect:\n",
    "    print(\"The intersection of  sets is empty\")\n",
    "else:\n",
    "    print(\"The intersection of sets are not empty\")"
   ]
  },
  {
   "cell_type": "markdown",
   "id": "e428776d",
   "metadata": {},
   "source": [
    "42. Create a set of the first 5 Fibonacci numbers."
   ]
  },
  {
   "cell_type": "code",
   "execution_count": 4,
   "id": "23378b1c",
   "metadata": {},
   "outputs": [
    {
     "name": "stdout",
     "output_type": "stream",
     "text": [
      "Set of the first 5 Fibonacci numbers: {0, 1, 2, 3, 5}\n"
     ]
    }
   ],
   "source": [
    "fibonacci_set = set()\n",
    "a, b = 0, 1\n",
    "\n",
    "for _ in range(6):\n",
    "    fibonacci_set.add(a)\n",
    "    a, b = b, a + b\n",
    "    \n",
    "print(\"Set of the first 5 Fibonacci numbers:\", fibonacci_set)"
   ]
  },
  {
   "cell_type": "markdown",
   "id": "1789c392",
   "metadata": {},
   "source": [
    "43. Remove duplicates from a list using sets."
   ]
  },
  {
   "cell_type": "code",
   "execution_count": 7,
   "id": "ad6f56c8",
   "metadata": {},
   "outputs": [
    {
     "name": "stdout",
     "output_type": "stream",
     "text": [
      "Original List: [2, 4, 6, 8, 4, 10, 6, 12, 14, 8]\n",
      "List without Duplicates: [2, 4, 6, 8, 10, 12, 14]\n"
     ]
    }
   ],
   "source": [
    "my_list = [2, 4, 6, 8, 4, 10, 6, 12, 14, 8]\n",
    "\n",
    "unique_set = set(original_list)\n",
    "unique_list = list(unique_set)\n",
    "\n",
    "print(\"Original List:\", my_list)\n",
    "print(\"List without Duplicates:\", unique_list)"
   ]
  },
  {
   "cell_type": "markdown",
   "id": "d3c21141",
   "metadata": {},
   "source": [
    "44. Check if two sets have the same elements, regardless of their count."
   ]
  },
  {
   "cell_type": "code",
   "execution_count": 10,
   "id": "98a79bea",
   "metadata": {},
   "outputs": [
    {
     "name": "stdout",
     "output_type": "stream",
     "text": [
      "The sets do not have the same elements.\n"
     ]
    }
   ],
   "source": [
    "def check_same_elements(set1, set2):\n",
    "    sorted_list1 = sorted(list(set1))\n",
    "    sorted_list2 = sorted(list(set2))\n",
    "\n",
    "    return sorted_list1 == sorted_list2\n",
    "\n",
    "# test\n",
    "set1 = {1, 2, 3, 4, 5}\n",
    "set2 = {7, 9, 0}\n",
    "\n",
    "result = check_same_elements(set1, set2)\n",
    "\n",
    "if result:\n",
    "    print(\"The sets have the same elements.\")\n",
    "else:\n",
    "    print(\"The sets do not have the same elements.\")"
   ]
  },
  {
   "cell_type": "markdown",
   "id": "c1014cee",
   "metadata": {},
   "source": [
    "45. Create a set of the first n powers of 2"
   ]
  },
  {
   "cell_type": "code",
   "execution_count": 11,
   "id": "4a45a4aa",
   "metadata": {},
   "outputs": [
    {
     "name": "stdout",
     "output_type": "stream",
     "text": [
      "{1, 2, 4, 8, 16}\n"
     ]
    }
   ],
   "source": [
    "def power_of_2(n):\n",
    "    powers_of_2 = set()\n",
    "    \n",
    "    for i in range(n):\n",
    "        power = 2 ** i\n",
    "        powers_of_2.add(power)\n",
    "    return powers_of_2\n",
    "\n",
    "n = 5\n",
    "powers_set = power_of_2(n)\n",
    "\n",
    "print(powers_set)"
   ]
  },
  {
   "cell_type": "markdown",
   "id": "2e401133",
   "metadata": {},
   "source": [
    "46. Find the common elements between a set and a list."
   ]
  },
  {
   "cell_type": "code",
   "execution_count": 13,
   "id": "b89ce56a",
   "metadata": {},
   "outputs": [
    {
     "name": "stdout",
     "output_type": "stream",
     "text": [
      "Common elements: [2, 4]\n"
     ]
    }
   ],
   "source": [
    "my_set = {1, 2, 3, 4, 5 }\n",
    "my_list = [2, 4, 6 ]\n",
    "\n",
    "list_to_set = set(my_list)\n",
    "common_elements = []\n",
    "\n",
    "for i in my_set:\n",
    "    if i in list_to_set:\n",
    "        common_elements.append(i)\n",
    "\n",
    "print(\"Common elements:\", common_elements)"
   ]
  },
  {
   "cell_type": "markdown",
   "id": "6a7011a8",
   "metadata": {},
   "source": [
    "47. Create a set of the first n triangular numbers."
   ]
  },
  {
   "cell_type": "code",
   "execution_count": 18,
   "id": "d64af8a9",
   "metadata": {},
   "outputs": [
    {
     "name": "stdout",
     "output_type": "stream",
     "text": [
      "The set of the first 7 triangular numbers is: {1, 3, 6, 10, 15, 21, 28}\n"
     ]
    }
   ],
   "source": [
    "def create_triangular_numbers(n):\n",
    "    triangular_num = set()\n",
    "    \n",
    "    for i in range(1, n + 1):\n",
    "        triangular_number = i * (i + 1) // 2\n",
    "        \n",
    "        triangular_num.add(triangular_number)\n",
    "        \n",
    "    return triangular_num\n",
    "\n",
    "n = 7\n",
    "triangular_set = create_triangular_numbers(n)\n",
    "\n",
    "print(f\"The set of the first {n} triangular numbers is:\", triangular_set)"
   ]
  },
  {
   "cell_type": "markdown",
   "id": "e747e150",
   "metadata": {},
   "source": [
    "48. Check if a set contains another set as a subset."
   ]
  },
  {
   "cell_type": "code",
   "execution_count": 19,
   "id": "dcf13e7f",
   "metadata": {},
   "outputs": [
    {
     "name": "stdout",
     "output_type": "stream",
     "text": [
      "set2 is a subset of set1\n"
     ]
    }
   ],
   "source": [
    "set1 = {1, 2, 3, 4, 5}\n",
    "set2 = {2, 4}\n",
    "\n",
    "is_subset = set2.issubset(set1)\n",
    "if is_subset:\n",
    "    print(\"set2 is a subset of set1\")\n",
    "else:\n",
    "    print(\"set2 is not a subset of set1\")"
   ]
  },
  {
   "cell_type": "markdown",
   "id": "77a066e1",
   "metadata": {},
   "source": [
    "49. Create a set of alternating 1s and 0s of length n."
   ]
  },
  {
   "cell_type": "code",
   "execution_count": 21,
   "id": "04a5244c",
   "metadata": {},
   "outputs": [
    {
     "name": "stdout",
     "output_type": "stream",
     "text": [
      "{0, 1}\n"
     ]
    }
   ],
   "source": [
    "def create_alternating_set(n):\n",
    "    alternating_set = set()\n",
    "    for i in range(n):\n",
    "        if i % 2 == 0:\n",
    "            alternating_set.add(1)\n",
    "        else:\n",
    "            alternating_set.add(0)\n",
    "    return alternating_set\n",
    "\n",
    "n = 10\n",
    "result = create_alternating_set(n)\n",
    "print(result)"
   ]
  },
  {
   "cell_type": "markdown",
   "id": "aaecc5e9",
   "metadata": {},
   "source": [
    "50. Merge multiple sets into one."
   ]
  },
  {
   "cell_type": "code",
   "execution_count": 24,
   "id": "3f580a5b",
   "metadata": {},
   "outputs": [
    {
     "name": "stdout",
     "output_type": "stream",
     "text": [
      "Merged Set: {0, 1, 2, 3, 4, 5, 6}\n"
     ]
    }
   ],
   "source": [
    "set1 = {1, 3, 5}\n",
    "set2 = {2, 4, 6}\n",
    "set3 = {0, 1, 2}\n",
    "\n",
    "merged_set = set1 | set2 | set3\n",
    "print(\"Merged Set:\", merged_set)"
   ]
  },
  {
   "cell_type": "code",
   "execution_count": null,
   "id": "4b2c1cd7",
   "metadata": {},
   "outputs": [],
   "source": []
  },
  {
   "cell_type": "code",
   "execution_count": null,
   "id": "d7e3a4a1",
   "metadata": {},
   "outputs": [],
   "source": []
  },
  {
   "cell_type": "code",
   "execution_count": null,
   "id": "c9147c3b",
   "metadata": {},
   "outputs": [],
   "source": []
  },
  {
   "cell_type": "code",
   "execution_count": null,
   "id": "b64ebdd6",
   "metadata": {},
   "outputs": [],
   "source": []
  },
  {
   "cell_type": "code",
   "execution_count": null,
   "id": "d91a0846",
   "metadata": {},
   "outputs": [],
   "source": []
  },
  {
   "cell_type": "code",
   "execution_count": null,
   "id": "f00b0d0d",
   "metadata": {},
   "outputs": [],
   "source": []
  }
 ],
 "metadata": {
  "kernelspec": {
   "display_name": "Python 3 (ipykernel)",
   "language": "python",
   "name": "python3"
  },
  "language_info": {
   "codemirror_mode": {
    "name": "ipython",
    "version": 3
   },
   "file_extension": ".py",
   "mimetype": "text/x-python",
   "name": "python",
   "nbconvert_exporter": "python",
   "pygments_lexer": "ipython3",
   "version": "3.11.4"
  }
 },
 "nbformat": 4,
 "nbformat_minor": 5
}
